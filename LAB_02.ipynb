{
 "cells": [
  {
   "cell_type": "markdown",
   "metadata": {},
   "source": [
    "<img src=\"http://oci02.img.iteso.mx/identidad_de_instancia_2018/ITESO/Logos%20ITESO/Logo-ITESO-Principal.jpg\">"
   ]
  },
  {
   "cell_type": "markdown",
   "metadata": {},
   "source": [
    "<center> <font color= #004A94> <font size = 6> Lic. Ingeniería Financiera </font> <br> <br> <font color= #AABCBB> <font size = 4>I.F. Karen Violeta García Hernandez - if707178@iteso.mx </font>"
   ]
  },
  {
   "cell_type": "markdown",
   "metadata": {},
   "source": [
    "<center><font color=#50C8C4><font size=5> Laboratorio 2: Behavioral Finance </font> <br> <br>"
   ]
  },
  {
   "cell_type": "markdown",
   "metadata": {},
   "source": [
    "<center> <font color= #004A94 > <font size = 4> Primavera 2020 </font>  |  <font color= #004A94> <font size = 4> Repositorio: <a href='https://github.com/violetarcia/LAB_02_KVGH.git'>Link</a></font>"
   ]
  },
  {
   "cell_type": "markdown",
   "metadata": {},
   "source": [
    "______"
   ]
  },
  {
   "cell_type": "markdown",
   "metadata": {},
   "source": [
    "<div style=\"text-align:center\"><span style=\"color:#50C8C4; font-family:Georgia; font-size:2.2em;\"> Resumen </span></div>"
   ]
  },
  {
   "cell_type": "markdown",
   "metadata": {},
   "source": [
    "<p style = \"font-family: Calibri Light; font-size:1.3em;color:black; LINE-HEIGHT:25px\"> Este laboratorio tiene como propósito particular el elaborar herramientas para el análisis del desempeño de la actividad de trading, desde el punto de vista de la cuenta y desde el punto de vista de la persona que opera la cuenta (trader). Por lo tanto, este laboratorio estará dividido en 4 partes, cada una, servirá para cumplir con la estructura básica de proyectos para sistemas de trading y las otras 3 partes son relacionadas cada una a los propósitos del módulo completo. </p>"
   ]
  },
  {
   "cell_type": "markdown",
   "metadata": {},
   "source": [
    "______"
   ]
  },
  {
   "cell_type": "markdown",
   "metadata": {},
   "source": [
    "<div style=\"text-align:center\"><span style=\"color:#50C8C4; font-family:Georgia; font-size:2.2em;\"> Estructura </span></div>"
   ]
  },
  {
   "cell_type": "markdown",
   "metadata": {},
   "source": [
    "> <span style=\"color:#004A94; font-family:Georgia; font-size:1.7em;\"> Parte I </span>\n",
    "\n",
    "<p style = \"font-family: Calibri Light; font-size:1.3em;color:black; LINE-HEIGHT:25px\"> En la primera parte de este laboratorio, se definió la estructura básica de la forma en la que se trabajaría para abordar tal problemática, la cual, en términos generales, se define como:  </p>\n",
    "\n",
    "- _La evaluación de un trader a través de su información histórica de operaciones en la cuenta que este mismo está a cargo, adhiriendo aspectos de behavioural finance._\n",
    "\n",
    "<p style = \"font-family: Calibri Light; font-size:1.3em;color:black; LINE-HEIGHT:25px\"> El repositorio se constituye de la siguiente manera: </p>\n",
    "\n",
    "| Elemento | Tipo | Contenido |\n",
    "| :---:   | :-: | :-: |\n",
    "| archivos | carpeta | Archivos con precios históricos |\n",
    "| datos.py | Script de Python 3 | Variables y datos relevantes |\n",
    "| funciones.py | Script de Python 3 | Funciones para procesamiento de datos |\n",
    "| visualizaciones.py | Script de Python 3 | Funciones para visualización de datos |\n",
    "| principal.py | Script de Python 3 | Ejecutar secuencialmente el proyecto completo |\n",
    "| LAB_02.ipynb | Jupyter Notebook | Explicaciones del proyecto |\n",
    "| README.md | Archivo de Markdown | Información basica del proyecto |"
   ]
  },
  {
   "cell_type": "markdown",
   "metadata": {},
   "source": [
    "_______________"
   ]
  },
  {
   "cell_type": "markdown",
   "metadata": {},
   "source": [
    "<div style=\"text-align:center\"><span style=\"color:#50C8C4; font-family:Georgia; font-size:2.0em;\"> Código </span></div>"
   ]
  },
  {
   "cell_type": "markdown",
   "metadata": {},
   "source": [
    "<p style = \"font-family: Calibri Light; font-size:1.3em;color:black; LINE-HEIGHT:25px\"> A continuación se desglosa el código con el cual se analizan las operaciones de una cuenta de OANDA </p>"
   ]
  },
  {
   "cell_type": "code",
   "execution_count": 1,
   "metadata": {},
   "outputs": [
    {
     "name": "stdout",
     "output_type": "stream",
     "text": [
      "12.426263332366943\n"
     ]
    },
    {
     "data": {
      "text/plain": [
       "<Figure size 640x480 with 1 Axes>"
      ]
     },
     "metadata": {},
     "output_type": "display_data"
    },
    {
     "data": {
      "text/plain": [
       "<Figure size 640x480 with 1 Axes>"
      ]
     },
     "metadata": {},
     "output_type": "display_data"
    },
    {
     "data": {
      "text/plain": [
       "<Figure size 640x480 with 1 Axes>"
      ]
     },
     "metadata": {},
     "output_type": "display_data"
    },
    {
     "data": {
      "text/plain": [
       "<Figure size 640x480 with 1 Axes>"
      ]
     },
     "metadata": {},
     "output_type": "display_data"
    }
   ],
   "source": [
    "import funciones as fn                              # Para procesamiento de datos\n",
    "import visualizaciones as vs                        # Para visualizacion de datos"
   ]
  },
  {
   "cell_type": "markdown",
   "metadata": {},
   "source": [
    "> <span style=\"color:#004A94; font-family:Georgia; font-size:1.7em;\"> Parte II </span>\n",
    "\n",
    "<p style = \"font-family: Calibri Light; font-size:1.3em;color:black; LINE-HEIGHT:25px\"> El objetivo de esta parte es realizar mediciones de estadísticas básicas de una cuenta de trading. Para efectuar esto, es necesario empezar con el primer paso, el cual basicamente consiste en leer el archivo en excel que se encuentra en la carpeta de archivos, este mismo previamente se tuvo que descargar de la cuenta de trading de OANDA.</p>"
   ]
  },
  {
   "cell_type": "code",
   "execution_count": 2,
   "metadata": {},
   "outputs": [
    {
     "data": {
      "text/html": [
       "<div>\n",
       "<style scoped>\n",
       "    .dataframe tbody tr th:only-of-type {\n",
       "        vertical-align: middle;\n",
       "    }\n",
       "\n",
       "    .dataframe tbody tr th {\n",
       "        vertical-align: top;\n",
       "    }\n",
       "\n",
       "    .dataframe thead th {\n",
       "        text-align: right;\n",
       "    }\n",
       "</style>\n",
       "<table border=\"1\" class=\"dataframe\">\n",
       "  <thead>\n",
       "    <tr style=\"text-align: right;\">\n",
       "      <th></th>\n",
       "      <th>order</th>\n",
       "      <th>opentime</th>\n",
       "      <th>type</th>\n",
       "      <th>size</th>\n",
       "      <th>symbol</th>\n",
       "      <th>openprice</th>\n",
       "      <th>s/l</th>\n",
       "      <th>t/p</th>\n",
       "      <th>closetime</th>\n",
       "      <th>closeprice</th>\n",
       "      <th>commission</th>\n",
       "      <th>taxes</th>\n",
       "      <th>swap</th>\n",
       "      <th>profit</th>\n",
       "    </tr>\n",
       "  </thead>\n",
       "  <tbody>\n",
       "    <tr>\n",
       "      <th>0</th>\n",
       "      <td>233141811</td>\n",
       "      <td>2020.02.11 04:01:05</td>\n",
       "      <td>buy</td>\n",
       "      <td>0.05</td>\n",
       "      <td>usddkk</td>\n",
       "      <td>6.84715</td>\n",
       "      <td>6.84295</td>\n",
       "      <td>6.85115</td>\n",
       "      <td>2020.02.11 08:15:15</td>\n",
       "      <td>6.84905</td>\n",
       "      <td>0</td>\n",
       "      <td>0</td>\n",
       "      <td>0</td>\n",
       "      <td>1.39</td>\n",
       "    </tr>\n",
       "    <tr>\n",
       "      <th>1</th>\n",
       "      <td>233156163</td>\n",
       "      <td>2020.02.11 04:01:05</td>\n",
       "      <td>buy</td>\n",
       "      <td>0.05</td>\n",
       "      <td>usddkk</td>\n",
       "      <td>6.84715</td>\n",
       "      <td>6.84295</td>\n",
       "      <td>6.85115</td>\n",
       "      <td>2020.02.11 09:18:47</td>\n",
       "      <td>6.85115</td>\n",
       "      <td>0</td>\n",
       "      <td>0</td>\n",
       "      <td>0</td>\n",
       "      <td>2.92</td>\n",
       "    </tr>\n",
       "    <tr>\n",
       "      <th>2</th>\n",
       "      <td>233259147</td>\n",
       "      <td>2020.02.12 03:46:15</td>\n",
       "      <td>buy</td>\n",
       "      <td>0.10</td>\n",
       "      <td>usddkk</td>\n",
       "      <td>6.84360</td>\n",
       "      <td>6.84080</td>\n",
       "      <td>6.84630</td>\n",
       "      <td>2020.02.12 06:33:45</td>\n",
       "      <td>6.84630</td>\n",
       "      <td>0</td>\n",
       "      <td>0</td>\n",
       "      <td>0</td>\n",
       "      <td>3.94</td>\n",
       "    </tr>\n",
       "    <tr>\n",
       "      <th>3</th>\n",
       "      <td>233141532</td>\n",
       "      <td>2020.02.11 03:58:21</td>\n",
       "      <td>buy</td>\n",
       "      <td>0.05</td>\n",
       "      <td>usdjpy</td>\n",
       "      <td>109.85200</td>\n",
       "      <td>109.65200</td>\n",
       "      <td>110.10200</td>\n",
       "      <td>2020.02.12 10:44:08</td>\n",
       "      <td>110.10500</td>\n",
       "      <td>0</td>\n",
       "      <td>0</td>\n",
       "      <td>0</td>\n",
       "      <td>11.49</td>\n",
       "    </tr>\n",
       "    <tr>\n",
       "      <th>4</th>\n",
       "      <td>233141473</td>\n",
       "      <td>2020.02.11 03:54:44</td>\n",
       "      <td>buy</td>\n",
       "      <td>0.10</td>\n",
       "      <td>eurusd</td>\n",
       "      <td>1.09155</td>\n",
       "      <td>1.08856</td>\n",
       "      <td>1.09406</td>\n",
       "      <td>2020.02.12 17:54:18</td>\n",
       "      <td>1.08856</td>\n",
       "      <td>0</td>\n",
       "      <td>0</td>\n",
       "      <td>0</td>\n",
       "      <td>-29.90</td>\n",
       "    </tr>\n",
       "  </tbody>\n",
       "</table>\n",
       "</div>"
      ],
      "text/plain": [
       "       order             opentime type  size  symbol  openprice        s/l  \\\n",
       "0  233141811  2020.02.11 04:01:05  buy  0.05  usddkk    6.84715    6.84295   \n",
       "1  233156163  2020.02.11 04:01:05  buy  0.05  usddkk    6.84715    6.84295   \n",
       "2  233259147  2020.02.12 03:46:15  buy  0.10  usddkk    6.84360    6.84080   \n",
       "3  233141532  2020.02.11 03:58:21  buy  0.05  usdjpy  109.85200  109.65200   \n",
       "4  233141473  2020.02.11 03:54:44  buy  0.10  eurusd    1.09155    1.08856   \n",
       "\n",
       "         t/p            closetime  closeprice  commission  taxes  swap  profit  \n",
       "0    6.85115  2020.02.11 08:15:15     6.84905           0      0     0    1.39  \n",
       "1    6.85115  2020.02.11 09:18:47     6.85115           0      0     0    2.92  \n",
       "2    6.84630  2020.02.12 06:33:45     6.84630           0      0     0    3.94  \n",
       "3  110.10200  2020.02.12 10:44:08   110.10500           0      0     0   11.49  \n",
       "4    1.09406  2020.02.12 17:54:18     1.08856           0      0     0  -29.90  "
      ]
     },
     "execution_count": 2,
     "metadata": {},
     "output_type": "execute_result"
    }
   ],
   "source": [
    "# Leer archivo (Se tienen 2 en 'archivos')\n",
    "data = fn.f_leer_archivo('archivo_tradeview_1.xlsx')\n",
    "data.head()"
   ]
  },
  {
   "cell_type": "markdown",
   "metadata": {},
   "source": [
    "<p style = \"font-family: Calibri Light; font-size:1.3em;color:black; LINE-HEIGHT:25px\"> Como se observa, la función 'f_leer_archivo' requiere el nombre del archivo para indicarle cual es el archivo de excel que contiene las operaciones históricas del trader, el path . Otro punto a destacar es que, debido a la manera en que está programada tal función, es necesario que el nombre de la hoja sea 'Hoja1' así como contener las siguientes columnas:</p>\n",
    "\n",
    "|    |  |  |    |  |  |    |  |  |\n",
    "| :-:   | :-: | :-: | :-:   | :-: | :-: | :-:   | :-: | :-: |\n",
    "|I   Order  I |  Size  I  |  Openprice  I|  S/L  I  |  T/P  I  |  Closeprice  I|  Taxes  I  |  Swap  I  | Profit  I|\n",
    "\n",
    "\n",
    "<p style = \"font-family: Calibri Light; font-size:1.3em;color:black; LINE-HEIGHT:25px\"> Ya que la función se cerciora que estas columnas sean de tipo numérico debido a que estos datos son de suma importancia para el resto del proyecto.</p>\n"
   ]
  },
  {
   "cell_type": "markdown",
   "metadata": {},
   "source": [
    "<p style = \"font-family: Calibri Light; font-size:1.3em;color:black; LINE-HEIGHT:25px\"> A partir de esto, se le agrega columnas a 'data'. Una donde, con 'f_columna_tiempo', se calcula el tiempo en segundos de lo que duro cada operación abierta, es decir restando el closetime y el opentime. Una segunda columna que se le agrega es la de pips, a traves de la función 'f_columna_pips' cuya función tambien agrega otras dos columnas que son la de pips acumulado y el profit acumulado. Asimismo, a parte de estas columnas agregadas al archivo que ahora se encuentra en un objeto tipo DataFrame (data), tambien se calculan ciertas estadisticas básicas con la funcion de 'f_estadistica_ba' cuyas salidas son 2, la primera siendo df_1_tabla que es un DataFrame con tales calculos, y df_2_ranking que basicamente es el ranking de los instrumentos utilizados por el trader que fueron ganadoras. </p>"
   ]
  },
  {
   "cell_type": "code",
   "execution_count": 3,
   "metadata": {},
   "outputs": [
    {
     "data": {
      "text/html": [
       "<div>\n",
       "<style scoped>\n",
       "    .dataframe tbody tr th:only-of-type {\n",
       "        vertical-align: middle;\n",
       "    }\n",
       "\n",
       "    .dataframe tbody tr th {\n",
       "        vertical-align: top;\n",
       "    }\n",
       "\n",
       "    .dataframe thead th {\n",
       "        text-align: right;\n",
       "    }\n",
       "</style>\n",
       "<table border=\"1\" class=\"dataframe\">\n",
       "  <thead>\n",
       "    <tr style=\"text-align: right;\">\n",
       "      <th></th>\n",
       "      <th>Valor</th>\n",
       "      <th>Descripcion</th>\n",
       "    </tr>\n",
       "  </thead>\n",
       "  <tbody>\n",
       "    <tr>\n",
       "      <th>Ops totales</th>\n",
       "      <td>20</td>\n",
       "      <td>Operaciones totales</td>\n",
       "    </tr>\n",
       "    <tr>\n",
       "      <th>Ganadoras</th>\n",
       "      <td>13</td>\n",
       "      <td>Operaciones ganadoras</td>\n",
       "    </tr>\n",
       "    <tr>\n",
       "      <th>Ganadoras_c</th>\n",
       "      <td>12</td>\n",
       "      <td>Operaciones ganadoras de compra</td>\n",
       "    </tr>\n",
       "    <tr>\n",
       "      <th>Ganadoras_v</th>\n",
       "      <td>1</td>\n",
       "      <td>Operaciones ganadoras de venta</td>\n",
       "    </tr>\n",
       "    <tr>\n",
       "      <th>Perdedoras</th>\n",
       "      <td>7</td>\n",
       "      <td>Operaciones perdedoras</td>\n",
       "    </tr>\n",
       "    <tr>\n",
       "      <th>Perdedoras_c</th>\n",
       "      <td>5</td>\n",
       "      <td>Operaciones perdedoras de compra</td>\n",
       "    </tr>\n",
       "    <tr>\n",
       "      <th>Perdedoras_v</th>\n",
       "      <td>2</td>\n",
       "      <td>Operaciones perdedoras de venta</td>\n",
       "    </tr>\n",
       "    <tr>\n",
       "      <th>Media (Profit)</th>\n",
       "      <td>2.665</td>\n",
       "      <td>Mediana de profit de las operaciones</td>\n",
       "    </tr>\n",
       "    <tr>\n",
       "      <th>Media (Pips)</th>\n",
       "      <td>10.75</td>\n",
       "      <td>Mediana de pips de las operaciones</td>\n",
       "    </tr>\n",
       "    <tr>\n",
       "      <th>r_efectividad</th>\n",
       "      <td>0.65</td>\n",
       "      <td>Ganadoras Totales/Operaciones Totales</td>\n",
       "    </tr>\n",
       "    <tr>\n",
       "      <th>r_proporcion</th>\n",
       "      <td>1.85714</td>\n",
       "      <td>Ganadoras Totales/ Perdedoras Totales</td>\n",
       "    </tr>\n",
       "    <tr>\n",
       "      <th>r_efectividad_c</th>\n",
       "      <td>0.6</td>\n",
       "      <td>Ganadoras Compras/ Operaciones Totales</td>\n",
       "    </tr>\n",
       "    <tr>\n",
       "      <th>r_efectividad_v</th>\n",
       "      <td>0.05</td>\n",
       "      <td>Ganadoras Ventas/ Operaciones Totales</td>\n",
       "    </tr>\n",
       "  </tbody>\n",
       "</table>\n",
       "</div>"
      ],
      "text/plain": [
       "                   Valor                             Descripcion\n",
       "Ops totales           20                     Operaciones totales\n",
       "Ganadoras             13                   Operaciones ganadoras\n",
       "Ganadoras_c           12         Operaciones ganadoras de compra\n",
       "Ganadoras_v            1          Operaciones ganadoras de venta\n",
       "Perdedoras             7                  Operaciones perdedoras\n",
       "Perdedoras_c           5        Operaciones perdedoras de compra\n",
       "Perdedoras_v           2         Operaciones perdedoras de venta\n",
       "Media (Profit)     2.665    Mediana de profit de las operaciones\n",
       "Media (Pips)       10.75      Mediana de pips de las operaciones\n",
       "r_efectividad       0.65   Ganadoras Totales/Operaciones Totales\n",
       "r_proporcion     1.85714   Ganadoras Totales/ Perdedoras Totales\n",
       "r_efectividad_c      0.6  Ganadoras Compras/ Operaciones Totales\n",
       "r_efectividad_v     0.05   Ganadoras Ventas/ Operaciones Totales"
      ]
     },
     "execution_count": 3,
     "metadata": {},
     "output_type": "execute_result"
    }
   ],
   "source": [
    "# Agregar la columna de los tiempos\n",
    "fn.f_columna_tiempos(data)\n",
    "\n",
    "# Agregar columna de pips\n",
    "fn.f_columna_pips(data)\n",
    "\n",
    "# DataFrames de Estadisticas basicas y ranking\n",
    "df_estadistic = fn.f_estadistica_ba(data)\n",
    "df_1_tabla = df_estadistic['estadisticas']\n",
    "df_1_tabla"
   ]
  },
  {
   "cell_type": "markdown",
   "metadata": {},
   "source": [
    "<p style = \"font-family: Calibri Light; font-size:1.3em;color:black; LINE-HEIGHT:25px\"> En el anterior DataDrame llamado df_1_tabla, es poible observar el nombre de cada calculo en el indice, así como el valor de cada calculo en la columna 0 y su descripcion en la 1. En el archivo 'archivo_tradeview_1.xlsx' se tienen 20 operaciones (las cuales son parte del Laboratorio 1, en donde se hizo trading manual) De estas, 13 tuvieron un profit positivo, y 7 perdedoras. A su vez también están las operaciones que fueron de compra o venta</p>\n",
    "\n",
    "<p style = \"font-family: Calibri Light; font-size:1.3em;color:black; LINE-HEIGHT:25px\">    A continuacion se muestra el ranking en donde se muestra que, de todas las operaciones hechas de tal instrumento, saber el porcentaje de las que tuvieron un resultado positivo (profit > 0)</p>"
   ]
  },
  {
   "cell_type": "code",
   "execution_count": 4,
   "metadata": {},
   "outputs": [
    {
     "data": {
      "text/html": [
       "<div>\n",
       "<style scoped>\n",
       "    .dataframe tbody tr th:only-of-type {\n",
       "        vertical-align: middle;\n",
       "    }\n",
       "\n",
       "    .dataframe tbody tr th {\n",
       "        vertical-align: top;\n",
       "    }\n",
       "\n",
       "    .dataframe thead th {\n",
       "        text-align: right;\n",
       "    }\n",
       "</style>\n",
       "<table border=\"1\" class=\"dataframe\">\n",
       "  <thead>\n",
       "    <tr style=\"text-align: right;\">\n",
       "      <th></th>\n",
       "      <th>ranking</th>\n",
       "    </tr>\n",
       "  </thead>\n",
       "  <tbody>\n",
       "    <tr>\n",
       "      <th>usddkk</th>\n",
       "      <td>1.0</td>\n",
       "    </tr>\n",
       "    <tr>\n",
       "      <th>usdjpy</th>\n",
       "      <td>1.0</td>\n",
       "    </tr>\n",
       "    <tr>\n",
       "      <th>usdsgd</th>\n",
       "      <td>1.0</td>\n",
       "    </tr>\n",
       "    <tr>\n",
       "      <th>usdcnh</th>\n",
       "      <td>1.0</td>\n",
       "    </tr>\n",
       "    <tr>\n",
       "      <th>eurusd</th>\n",
       "      <td>0.5</td>\n",
       "    </tr>\n",
       "    <tr>\n",
       "      <th>usdcad</th>\n",
       "      <td>0.5</td>\n",
       "    </tr>\n",
       "    <tr>\n",
       "      <th>eurjpy</th>\n",
       "      <td>0.0</td>\n",
       "    </tr>\n",
       "    <tr>\n",
       "      <th>usdmxn</th>\n",
       "      <td>0.0</td>\n",
       "    </tr>\n",
       "    <tr>\n",
       "      <th>audusd</th>\n",
       "      <td>0.0</td>\n",
       "    </tr>\n",
       "  </tbody>\n",
       "</table>\n",
       "</div>"
      ],
      "text/plain": [
       "        ranking\n",
       "usddkk      1.0\n",
       "usdjpy      1.0\n",
       "usdsgd      1.0\n",
       "usdcnh      1.0\n",
       "eurusd      0.5\n",
       "usdcad      0.5\n",
       "eurjpy      0.0\n",
       "usdmxn      0.0\n",
       "audusd      0.0"
      ]
     },
     "execution_count": 4,
     "metadata": {},
     "output_type": "execute_result"
    }
   ],
   "source": [
    "# DataFrame del ranking\n",
    "df_2_ranking = df_estadistic['ranking']\n",
    "df_2_ranking"
   ]
  },
  {
   "cell_type": "markdown",
   "metadata": {},
   "source": [
    "<p style = \"font-family: Calibri Light; font-size:1.3em;color:black; LINE-HEIGHT:25px\"> Graficamente se visualiza de la siguiente manera el ranking</p>"
   ]
  },
  {
   "cell_type": "code",
   "execution_count": 5,
   "metadata": {},
   "outputs": [
    {
     "data": {
      "image/png": "[encoded data removed]",
      "text/plain": [
       "<Figure size 640x480 with 1 Axes>"
      ]
     },
     "execution_count": 5,
     "metadata": {},
     "output_type": "execute_result"
    }
   ],
   "source": [
    "# Grafica de barras del ranking\n",
    "vs.fig_rank"
   ]
  },
  {
   "cell_type": "markdown",
   "metadata": {},
   "source": [
    "<p style = \"font-family: Calibri Light; font-size:1.3em;color:black; LINE-HEIGHT:25px\"> Sin embargo, al ser un ranking del porcentaje de operaciones ganadores que se ejecutaron por operación, no se puede observar la importancia en cuanto al profit de la cuenta tuvo cada instrumento; debido a esto se calcula otro ranking donde se pueda observar un poco más este efecto </p>"
   ]
  },
  {
   "cell_type": "code",
   "execution_count": 6,
   "metadata": {},
   "outputs": [
    {
     "data": {
      "image/png": "[encoded data removed]",
      "text/plain": [
       "<Figure size 640x480 with 1 Axes>"
      ]
     },
     "execution_count": 6,
     "metadata": {},
     "output_type": "execute_result"
    }
   ],
   "source": [
    "# Grafica de barras del ranking\n",
    "vs.fig_rank2"
   ]
  },
  {
   "cell_type": "markdown",
   "metadata": {},
   "source": [
    "<p style = \"font-family: Calibri Light; font-size:1.3em;color:black; LINE-HEIGHT:25px\"> Como se puede observar, esas que tienen 0% de operaciones ganadoras, tuvieron, obviamente un profit negativo. Pero no sólo eso, además que en algunos instrumentos donde se tiene 100% de ganadaros, no tienen un profit tan alto (lo más probable es que debido a que sólo son 20 operaciones, entonces si se hizo una operación del instrumento 'usdsgd' y se ganó 4.9 dólares cuenta como 100% ganadora, porque lo es, sin embargo no hace tanta diferencia como aquella que pierde 89.28)</p>"
   ]
  },
  {
   "cell_type": "markdown",
   "metadata": {},
   "source": [
    "> <span style=\"color:#004A94; font-family:Georgia; font-size:1.7em;\"> Parte III </span>\n",
    "\n",
    "<p style = \"font-family: Calibri Light; font-size:1.3em;color:black; LINE-HEIGHT:25px\"> El objetivo de esta tercera parte es calcular Medidas de Atribución al Desempeño expresadas semanalmente de la cuenta de trading y de la actividad del trader como persona. Se empieza calculando el capital acumulado a partir del capital inicial que se encuentra en el archivo datos.py en este caso es de $5,000 e ir sumando el profit y así tener esta nueva columna que muestra la evolución del capital de la cuenta a través del tiempo por operación acomodada por closetime. Después de calcular esto con la función de 'f_columna_capital_acm' sigue generar un dataFrame donde se suma el profit (rendimiento) de todas las operaciones por día, es decir, si se cerraron 3 operaciones en un mismo día, sumar el profit de esas 3 operaciones para saber el rendimiento de tal día, y así por día dejando en 0 los días en los que no se hicieron operaciones. De esta manera, en df_profit se encuentra la columna del día, o sea timestamp, el rendimiento diario cuya columna se llama profit_d, otra columna del profit acumulado para ver el rendimiento acumulado. Después con la función de 'log_dailiy_rends' de la columna de profit_acm ya que se necesitará para futuros cálculos.\n",
    "</p>"
   ]
  },
  {
   "cell_type": "code",
   "execution_count": 7,
   "metadata": {},
   "outputs": [
    {
     "data": {
      "text/html": [
       "<div>\n",
       "<style scoped>\n",
       "    .dataframe tbody tr th:only-of-type {\n",
       "        vertical-align: middle;\n",
       "    }\n",
       "\n",
       "    .dataframe tbody tr th {\n",
       "        vertical-align: top;\n",
       "    }\n",
       "\n",
       "    .dataframe thead th {\n",
       "        text-align: right;\n",
       "    }\n",
       "</style>\n",
       "<table border=\"1\" class=\"dataframe\">\n",
       "  <thead>\n",
       "    <tr style=\"text-align: right;\">\n",
       "      <th></th>\n",
       "      <th>timestamp</th>\n",
       "      <th>profit_d</th>\n",
       "      <th>profit_acm</th>\n",
       "      <th>rends</th>\n",
       "    </tr>\n",
       "  </thead>\n",
       "  <tbody>\n",
       "    <tr>\n",
       "      <th>0</th>\n",
       "      <td>2020-02-11</td>\n",
       "      <td>4.31</td>\n",
       "      <td>5004.31</td>\n",
       "      <td>NaN</td>\n",
       "    </tr>\n",
       "    <tr>\n",
       "      <th>1</th>\n",
       "      <td>2020-02-12</td>\n",
       "      <td>-14.47</td>\n",
       "      <td>4989.84</td>\n",
       "      <td>-0.002896</td>\n",
       "    </tr>\n",
       "    <tr>\n",
       "      <th>2</th>\n",
       "      <td>2020-02-13</td>\n",
       "      <td>-58.56</td>\n",
       "      <td>4931.28</td>\n",
       "      <td>-0.011805</td>\n",
       "    </tr>\n",
       "    <tr>\n",
       "      <th>3</th>\n",
       "      <td>2020-02-14</td>\n",
       "      <td>-1.15</td>\n",
       "      <td>4930.13</td>\n",
       "      <td>-0.000233</td>\n",
       "    </tr>\n",
       "    <tr>\n",
       "      <th>4</th>\n",
       "      <td>2020-02-16</td>\n",
       "      <td>0.00</td>\n",
       "      <td>4930.13</td>\n",
       "      <td>0.000000</td>\n",
       "    </tr>\n",
       "  </tbody>\n",
       "</table>\n",
       "</div>"
      ],
      "text/plain": [
       "    timestamp  profit_d  profit_acm     rends\n",
       "0  2020-02-11      4.31     5004.31       NaN\n",
       "1  2020-02-12    -14.47     4989.84 -0.002896\n",
       "2  2020-02-13    -58.56     4931.28 -0.011805\n",
       "3  2020-02-14     -1.15     4930.13 -0.000233\n",
       "4  2020-02-16      0.00     4930.13  0.000000"
      ]
     },
     "execution_count": 7,
     "metadata": {},
     "output_type": "execute_result"
    }
   ],
   "source": [
    "# Agregar capital acumulado\n",
    "fn.f_columna_capital_acm(data)\n",
    "\n",
    "# DataFrame de profits\n",
    "df_profit = fn.f_profit_diario(data)\n",
    "\n",
    "# Agregar rendimientos del profit acumulado\n",
    "fn.log_dailiy_rends(df_profit, 'profit_acm')\n",
    "\n",
    "df_profit.head()"
   ]
  },
  {
   "cell_type": "markdown",
   "metadata": {},
   "source": [
    "<p style = \"font-family: Calibri Light; font-size:1.3em;color:black; LINE-HEIGHT:25px\"> A partir de tener este nuevo DataFrame 'df_profit', se calculan las medidas de atribución al desempeño con la columa de rends. </p>"
   ]
  },
  {
   "cell_type": "code",
   "execution_count": 8,
   "metadata": {},
   "outputs": [
    {
     "data": {
      "text/html": [
       "<div>\n",
       "<style scoped>\n",
       "    .dataframe tbody tr th:only-of-type {\n",
       "        vertical-align: middle;\n",
       "    }\n",
       "\n",
       "    .dataframe tbody tr th {\n",
       "        vertical-align: top;\n",
       "    }\n",
       "\n",
       "    .dataframe thead th {\n",
       "        text-align: right;\n",
       "    }\n",
       "</style>\n",
       "<table border=\"1\" class=\"dataframe\">\n",
       "  <thead>\n",
       "    <tr style=\"text-align: right;\">\n",
       "      <th></th>\n",
       "      <th>values</th>\n",
       "    </tr>\n",
       "  </thead>\n",
       "  <tbody>\n",
       "    <tr>\n",
       "      <th>Sharpe</th>\n",
       "      <td>-0.201464</td>\n",
       "    </tr>\n",
       "    <tr>\n",
       "      <th>Sortino_c</th>\n",
       "      <td>-0.419844</td>\n",
       "    </tr>\n",
       "    <tr>\n",
       "      <th>Sortino_v</th>\n",
       "      <td>-0.873017</td>\n",
       "    </tr>\n",
       "    <tr>\n",
       "      <th>Drawdown_capi</th>\n",
       "      <td>-88.01 | 2020-02-11 | 2020-02-18</td>\n",
       "    </tr>\n",
       "    <tr>\n",
       "      <th>Drawup_capi</th>\n",
       "      <td>71.41 | 2020-02-18 | 2020-02-19</td>\n",
       "    </tr>\n",
       "    <tr>\n",
       "      <th>Information</th>\n",
       "      <td>0.330982</td>\n",
       "    </tr>\n",
       "  </tbody>\n",
       "</table>\n",
       "</div>"
      ],
      "text/plain": [
       "                                         values\n",
       "Sharpe                                -0.201464\n",
       "Sortino_c                             -0.419844\n",
       "Sortino_v                             -0.873017\n",
       "Drawdown_capi  -88.01 | 2020-02-11 | 2020-02-18\n",
       "Drawup_capi     71.41 | 2020-02-18 | 2020-02-19\n",
       "Information                            0.330982"
      ]
     },
     "execution_count": 8,
     "metadata": {},
     "output_type": "execute_result"
    }
   ],
   "source": [
    "# Estadisticas de metricas de desempeño\n",
    "df_profit_estad = fn.f_estadisticas_mad(data)\n",
    "df_profit_estad"
   ]
  },
  {
   "cell_type": "code",
   "execution_count": 9,
   "metadata": {},
   "outputs": [
    {
     "data": {
      "text/plain": [
       "-0.0009558647536383523"
      ]
     },
     "execution_count": 9,
     "metadata": {},
     "output_type": "execute_result"
    }
   ],
   "source": [
    "# Promedio de los rendimientos de la cuenta\n",
    "df_profit['rends'].mean()"
   ]
  },
  {
   "cell_type": "code",
   "execution_count": 10,
   "metadata": {},
   "outputs": [
    {
     "data": {
      "text/plain": [
       "0.005847641967409328"
      ]
     },
     "execution_count": 10,
     "metadata": {},
     "output_type": "execute_result"
    }
   ],
   "source": [
    "# Volatilidad de la cuenta\n",
    "df_profit['rends'].std()"
   ]
  },
  {
   "cell_type": "markdown",
   "metadata": {},
   "source": [
    "<p style = \"font-family: Calibri Light; font-size:1.3em;color:black; LINE-HEIGHT:25px\"> El capital tuvo una evolución como se puede observar en la siguiente grafica (ésta es por operación, más adelante se encuentra la gráfica de la evolución diaria), y debido a que la cuenta tiene un promedio (de los rendimientos) negativo, en consecuencia, las medidas de atribución son negativas. Esto nos quiere decir que es mejor invertir en cetes (la tasa libre riesgo se encuentra en el archivo de datos.py, ahí se puede modificar 'rf') y en el bechmark (también se especifica en dicho archivo). El periodo en que la cuenta estuvo activa fue 2 semanas y no hay muchas operaciones.</p>"
   ]
  },
  {
   "cell_type": "code",
   "execution_count": 11,
   "metadata": {},
   "outputs": [
    {
     "data": {
      "image/png": "[encoded data removed]",
      "text/plain": [
       "<Figure size 640x480 with 1 Axes>"
      ]
     },
     "execution_count": 11,
     "metadata": {},
     "output_type": "execute_result"
    }
   ],
   "source": [
    "# Grafica de profit acumukado por operacion\n",
    "vs.fig_cap"
   ]
  },
  {
   "cell_type": "markdown",
   "metadata": {},
   "source": [
    "<p style = \"font-family: Calibri Light; font-size:1.3em;color:black; LINE-HEIGHT:25px\"> A continuación se encuentran las definiciones de dichos calculos de las medidas de atribución.</p>\n",
    "\n",
    "<p style = \"font-family: Calibri Light; font-size:1.4em;color:#50C8C4; LINE-HEIGHT:25px\"> Sharpe: </p>\n",
    "\n",
    "<p style = \"font-family: Calibri Light; font-size:1.3em;color:black; LINE-HEIGHT:25px\"> Mide el rendimiento promedio excedente sobre la tasa libre de riesgo por unidad de riesgo incurrido. Es decir, es un indicativo del rendimiento esperado del trader por encima de la tasa libre de riesgo descontando el riesgo en el que incurre.  Mientras sea mas alto el valor del ratio, significa que el numerador fue muy grande o que el denominador fue muy pequeño. Esto, en terminos financieros, podría interpretarse que un Sharpe es alto cuando se tiene un rendimiento excedente despues de la tasa libre de riesgo alto, y/o, que la volatilidad de los rendimientos de la estrategia de trading fue baja. Otra manera más simple de pensarlo es que el trader hizo mucho más rendimiento que el riesgo en el que incurre.</p>\n",
    "\n",
    "\n",
    "<p style = \"font-family: Calibri Light; font-size:1.4em;color:#50C8C4; LINE-HEIGHT:25px\">Sortino Ratio:</p>\n",
    "\n",
    "<p style = \"font-family: Calibri Light; font-size:1.3em;color:black; LINE-HEIGHT:25px\"> Derivado del Sharpe Ratio, el Sortio Ratio es una medida que incorpora 2 conceptos especiales: 1) el MAR o \"Minimum Acceptable Return\" (algunos fondos y profesionales se refieren a esto como DTR o Desired Target Return) y es el rendimiento promedio objetivo que se desea obtener del trader. 2) el TDD o \"Target Downside Deviation\" se calcula con los rendimientos por periodo que estén por debajo del MAR, es decir, TDD es la volatilidad de los rendimientos por debajo del rendimiento objetivo.</p> \n",
    "\n",
    "\n",
    "<p style = \"font-family: Calibri Light; font-size:1.4em;color:#50C8C4; LINE-HEIGHT:25px\">Drawdown / DrawUp:</p>\n",
    "\n",
    "<p style = \"font-family: Calibri Light; font-size:1.3em;color:black; LINE-HEIGHT:25px\"> La minusvalía/plusvalía máxima que se presentó en la evolución del capital. Esta medida puede ser calculada, tanto para información temporalmente medida en los mismos intervalos o equidistante (ej. rendimientos diarios) y también para información obtenida en intervalos distintos o no equidistante (ej: rendimiento por operación). Esto es posible ya que lo que se busca obtener de información es la fecha inicial, la fecha final y la magnitud del periodo donde la acumulación de pérdida/ganancia de capital resultó ser la mayor dentro del periodo de tiempo analizado.</p>\n",
    "\n",
    "\n",
    "<p style = \"font-family: Calibri Light; font-size:1.4em;color:#50C8C4; LINE-HEIGHT:25px\">Information Ratio:</p>\n",
    "\n",
    "<p style = \"font-family: Calibri Light; font-size:1.3em;color:black; LINE-HEIGHT:25px\"> Es una medida similar al Sharpe, con la diferencia de incorporar información del benchmark. En el cálculo de esta medida se reemplaza en el numerador la tasa libre de riesgo por el rendimiento del benchmark y en el denominador se utiliza la información de todos los rendimientos de la estrategia de trading una vez que se descuentan los rendimientos del benchmark. De tal manera que, al descontar la información del mercado para el rendimiento (numerador) como para la medida de riesgo (numerador) se está buscando tener una medida de la \"información\" extra que el trader tiene/genera o que logra capturar de comportamiento de los activos y que podría hacer que sus cifras sean mejores que las de un benchmark.</p>"
   ]
  },
  {
   "cell_type": "code",
   "execution_count": 12,
   "metadata": {},
   "outputs": [
    {
     "data": {
      "image/png": "[encoded data removed]",
      "text/plain": [
       "<Figure size 640x480 with 1 Axes>"
      ]
     },
     "execution_count": 12,
     "metadata": {},
     "output_type": "execute_result"
    }
   ],
   "source": [
    "# Grafica de profit acumukado por dia\n",
    "vs.fig_dd"
   ]
  },
  {
   "cell_type": "markdown",
   "metadata": {},
   "source": [
    "<p style = \"font-family: Calibri Light; font-size:1.3em;color:black; LINE-HEIGHT:25px\"> Lo que se puede observar en esta grafica es profit diario de la cuenta, así como el drawdown y el drawup </p>"
   ]
  },
  {
   "cell_type": "markdown",
   "metadata": {},
   "source": [
    "> <span style=\"color:#004A94; font-family:Georgia; font-size:1.7em;\"> Parte IV </span>\n",
    "\n",
    "<p style = \"font-family: Calibri Light; font-size:1.3em;color:black; LINE-HEIGHT:25px\"> El objetivo de esta cuarta y ultima parte es proponer, diseñar y calcular una función para obtener evidencia sobre la presencia de sesgos cognitivos en un trader.</p>\n",
    "\n",
    ".\n",
    "\n",
    "<span style=\"color:#AABCBB; font-family:Georgia; font-size:1.4em;\"> Disposition Effect </span>\n",
    "\n",
    "<p style = \"font-family: Calibri Light; font-size:1.3em;color:black; LINE-HEIGHT:25px\"> Este sesgo cognitivo propuesto por los autores Kahneman y Tversky, para el caso de trading, aplica como el efecto que se puede observar en el histórico de un trader sobre el hecho que tiende a cortar las ganancias rápido y mantener las pérdidas mucho tiempo, es decir, a materializar las ganancias mas frecuentemente que las pérdidas.</p>"
   ]
  },
  {
   "cell_type": "code",
   "execution_count": 15,
   "metadata": {},
   "outputs": [],
   "source": [
    "# Operaciones ganadora vs perdedora (ocurrencia)\n",
    "sesgos = fn.f_sesgos_cognitivo(data)"
   ]
  },
  {
   "cell_type": "markdown",
   "metadata": {},
   "source": [
    "<p style = \"font-family: Calibri Light; font-size:1.3em;color:black; LINE-HEIGHT:25px\"> Lo que hace la funcion de 'f_sesgos_cognitivo' es lo siguiente: primero busca las operaciones ganadoras (profit > 0) y a partir de tenerlas se hace una búsqueda por cada operación ganadora para encontrar las operaciones que estaban abiertas en el momento de cierre de cada operación ganadora. Al tener esto, se descarga el precio de la operación abierta (ya que no se tiene en la data frame de los datos, solo se cuenta con el precio de apertura y el de cierre, este precio es uno intermedio al momento del cierre de la ganadora (que es donde te sitúas en el tiempo). A partir de esto, buscas cual tenía una perdida flotante (de las operaciones abiertas al momento que la ganadora se cerró) esto es, si el precio intermedio (en close de la ganadora) es menor al precio de apertura (siempre y cuando la operación sea de tipo compra) o viceversa si es venta. Cuando se tienen todas las operaciones abiertas para cada ganadora, se toma la de mayor perdida flotante ya que sólo se comparan dos operaciones (una ganadora y una perdedora) a ésta comparación la llamamos 'ocurrencia'. En el diccionario que entrega 'sesgos', tiene una llave que se llama así, ocurrencias, la cual es un diccionario con todas e información relevante. </p>"
   ]
  },
  {
   "cell_type": "code",
   "execution_count": 16,
   "metadata": {},
   "outputs": [
    {
     "data": {
      "text/html": [
       "<div>\n",
       "<style scoped>\n",
       "    .dataframe tbody tr th:only-of-type {\n",
       "        vertical-align: middle;\n",
       "    }\n",
       "\n",
       "    .dataframe tbody tr th {\n",
       "        vertical-align: top;\n",
       "    }\n",
       "\n",
       "    .dataframe thead th {\n",
       "        text-align: right;\n",
       "    }\n",
       "</style>\n",
       "<table border=\"1\" class=\"dataframe\">\n",
       "  <thead>\n",
       "    <tr style=\"text-align: right;\">\n",
       "      <th></th>\n",
       "      <th>CloseTime</th>\n",
       "      <th>Capital_acm</th>\n",
       "      <th>Ganadora</th>\n",
       "      <th>Gan_Profit</th>\n",
       "      <th>Gan/Cap_acm</th>\n",
       "      <th>Perdedora</th>\n",
       "      <th>Perdida_flotante</th>\n",
       "      <th>Perd/Cap_acm</th>\n",
       "      <th>Perd_Tot</th>\n",
       "      <th>Ratio cp/cg</th>\n",
       "    </tr>\n",
       "  </thead>\n",
       "  <tbody>\n",
       "    <tr>\n",
       "      <th>0</th>\n",
       "      <td>2020-02-11 08:15:15</td>\n",
       "      <td>5001.39</td>\n",
       "      <td>usddkk</td>\n",
       "      <td>1.39</td>\n",
       "      <td>0.028</td>\n",
       "      <td>eurusd</td>\n",
       "      <td>-14.1</td>\n",
       "      <td>0.282</td>\n",
       "      <td>-29.9</td>\n",
       "      <td>10.144</td>\n",
       "    </tr>\n",
       "    <tr>\n",
       "      <th>1</th>\n",
       "      <td>2020-02-11 09:18:47</td>\n",
       "      <td>5004.31</td>\n",
       "      <td>usddkk</td>\n",
       "      <td>2.92</td>\n",
       "      <td>0.058</td>\n",
       "      <td>eurusd</td>\n",
       "      <td>-3.2</td>\n",
       "      <td>0.064</td>\n",
       "      <td>-29.9</td>\n",
       "      <td>1.096</td>\n",
       "    </tr>\n",
       "    <tr>\n",
       "      <th>2</th>\n",
       "      <td>2020-02-12 06:33:45</td>\n",
       "      <td>5008.25</td>\n",
       "      <td>usddkk</td>\n",
       "      <td>3.94</td>\n",
       "      <td>0.079</td>\n",
       "      <td>usdsgd</td>\n",
       "      <td>-1.946</td>\n",
       "      <td>0.039</td>\n",
       "      <td>4.9</td>\n",
       "      <td>0.494</td>\n",
       "    </tr>\n",
       "    <tr>\n",
       "      <th>3</th>\n",
       "      <td>2020-02-12 10:44:08</td>\n",
       "      <td>5019.74</td>\n",
       "      <td>usdjpy</td>\n",
       "      <td>11.49</td>\n",
       "      <td>0.229</td>\n",
       "      <td>eurusd</td>\n",
       "      <td>-22</td>\n",
       "      <td>0.438</td>\n",
       "      <td>-29.9</td>\n",
       "      <td>1.915</td>\n",
       "    </tr>\n",
       "    <tr>\n",
       "      <th>4</th>\n",
       "      <td>2020-02-13 02:29:21</td>\n",
       "      <td>4994.74</td>\n",
       "      <td>usdsgd</td>\n",
       "      <td>4.9</td>\n",
       "      <td>0.098</td>\n",
       "      <td>eurjpy</td>\n",
       "      <td>-29.448</td>\n",
       "      <td>0.59</td>\n",
       "      <td>-89.28</td>\n",
       "      <td>6.01</td>\n",
       "    </tr>\n",
       "    <tr>\n",
       "      <th>5</th>\n",
       "      <td>2020-02-13 03:50:04</td>\n",
       "      <td>5018.15</td>\n",
       "      <td>usdjpy</td>\n",
       "      <td>23.41</td>\n",
       "      <td>0.467</td>\n",
       "      <td>eurjpy</td>\n",
       "      <td>-17.178</td>\n",
       "      <td>0.342</td>\n",
       "      <td>-89.28</td>\n",
       "      <td>0.734</td>\n",
       "    </tr>\n",
       "    <tr>\n",
       "      <th>6</th>\n",
       "      <td>2020-02-14 02:13:32</td>\n",
       "      <td>4951.28</td>\n",
       "      <td>eurusd</td>\n",
       "      <td>20</td>\n",
       "      <td>0.404</td>\n",
       "      <td>usdcad</td>\n",
       "      <td>-1.058</td>\n",
       "      <td>0.021</td>\n",
       "      <td>-21.15</td>\n",
       "      <td>0.053</td>\n",
       "    </tr>\n",
       "    <tr>\n",
       "      <th>7</th>\n",
       "      <td>2020-02-18 02:11:47</td>\n",
       "      <td>4951.76</td>\n",
       "      <td>usdjpy</td>\n",
       "      <td>21.63</td>\n",
       "      <td>0.437</td>\n",
       "      <td>usdmxn</td>\n",
       "      <td>-363.3</td>\n",
       "      <td>7.337</td>\n",
       "      <td>-38.65</td>\n",
       "      <td>16.796</td>\n",
       "    </tr>\n",
       "    <tr>\n",
       "      <th>8</th>\n",
       "      <td>2020-02-18 09:14:03</td>\n",
       "      <td>4954.95</td>\n",
       "      <td>eurusd</td>\n",
       "      <td>3.19</td>\n",
       "      <td>0.064</td>\n",
       "      <td>usdmxn</td>\n",
       "      <td>-347.391</td>\n",
       "      <td>7.011</td>\n",
       "      <td>-38.65</td>\n",
       "      <td>108.9</td>\n",
       "    </tr>\n",
       "    <tr>\n",
       "      <th>9</th>\n",
       "      <td>2020-02-19 03:46:20</td>\n",
       "      <td>4952.67</td>\n",
       "      <td>usdjpy</td>\n",
       "      <td>36.37</td>\n",
       "      <td>0.734</td>\n",
       "      <td>usdcad</td>\n",
       "      <td>-2.973</td>\n",
       "      <td>0.06</td>\n",
       "      <td>0.91</td>\n",
       "      <td>0.082</td>\n",
       "    </tr>\n",
       "  </tbody>\n",
       "</table>\n",
       "</div>"
      ],
      "text/plain": [
       "            CloseTime Capital_acm Ganadora Gan_Profit Gan/Cap_acm Perdedora  \\\n",
       "0 2020-02-11 08:15:15     5001.39   usddkk       1.39       0.028    eurusd   \n",
       "1 2020-02-11 09:18:47     5004.31   usddkk       2.92       0.058    eurusd   \n",
       "2 2020-02-12 06:33:45     5008.25   usddkk       3.94       0.079    usdsgd   \n",
       "3 2020-02-12 10:44:08     5019.74   usdjpy      11.49       0.229    eurusd   \n",
       "4 2020-02-13 02:29:21     4994.74   usdsgd        4.9       0.098    eurjpy   \n",
       "5 2020-02-13 03:50:04     5018.15   usdjpy      23.41       0.467    eurjpy   \n",
       "6 2020-02-14 02:13:32     4951.28   eurusd         20       0.404    usdcad   \n",
       "7 2020-02-18 02:11:47     4951.76   usdjpy      21.63       0.437    usdmxn   \n",
       "8 2020-02-18 09:14:03     4954.95   eurusd       3.19       0.064    usdmxn   \n",
       "9 2020-02-19 03:46:20     4952.67   usdjpy      36.37       0.734    usdcad   \n",
       "\n",
       "  Perdida_flotante Perd/Cap_acm Perd_Tot Ratio cp/cg  \n",
       "0            -14.1        0.282    -29.9      10.144  \n",
       "1             -3.2        0.064    -29.9       1.096  \n",
       "2           -1.946        0.039      4.9       0.494  \n",
       "3              -22        0.438    -29.9       1.915  \n",
       "4          -29.448         0.59   -89.28        6.01  \n",
       "5          -17.178        0.342   -89.28       0.734  \n",
       "6           -1.058        0.021   -21.15       0.053  \n",
       "7           -363.3        7.337   -38.65      16.796  \n",
       "8         -347.391        7.011   -38.65       108.9  \n",
       "9           -2.973         0.06     0.91       0.082  "
      ]
     },
     "execution_count": 16,
     "metadata": {},
     "output_type": "execute_result"
    }
   ],
   "source": [
    "ocurrencias = fn.dataframe_ocurrencias(sesgos['ocurrencias'])\n",
    "ocurrencias"
   ]
  },
  {
   "cell_type": "markdown",
   "metadata": {},
   "source": [
    "<p style = \"font-family: Calibri Light; font-size:1.3em;color:black; LINE-HEIGHT:25px\"> La función 'dataframe_ocurrencias' unicamente para cambiar la forma de visualizarlo, en vez de un diccionario, un dataframe donde cada row es una ocurrencia. </p>"
   ]
  },
  {
   "cell_type": "code",
   "execution_count": 17,
   "metadata": {},
   "outputs": [
    {
     "data": {
      "text/html": [
       "<div>\n",
       "<style scoped>\n",
       "    .dataframe tbody tr th:only-of-type {\n",
       "        vertical-align: middle;\n",
       "    }\n",
       "\n",
       "    .dataframe tbody tr th {\n",
       "        vertical-align: top;\n",
       "    }\n",
       "\n",
       "    .dataframe thead th {\n",
       "        text-align: right;\n",
       "    }\n",
       "</style>\n",
       "<table border=\"1\" class=\"dataframe\">\n",
       "  <thead>\n",
       "    <tr style=\"text-align: right;\">\n",
       "      <th></th>\n",
       "      <th>Valor</th>\n",
       "    </tr>\n",
       "  </thead>\n",
       "  <tbody>\n",
       "    <tr>\n",
       "      <th>ocurrencias</th>\n",
       "      <td>10</td>\n",
       "    </tr>\n",
       "    <tr>\n",
       "      <th>status_quo</th>\n",
       "      <td>0.4</td>\n",
       "    </tr>\n",
       "    <tr>\n",
       "      <th>aversion_perdida</th>\n",
       "      <td>0.5</td>\n",
       "    </tr>\n",
       "    <tr>\n",
       "      <th>sensibilidad_decreciente</th>\n",
       "      <td>no</td>\n",
       "    </tr>\n",
       "  </tbody>\n",
       "</table>\n",
       "</div>"
      ],
      "text/plain": [
       "                         Valor\n",
       "ocurrencias                 10\n",
       "status_quo                 0.4\n",
       "aversion_perdida           0.5\n",
       "sensibilidad_decreciente    no"
      ]
     },
     "execution_count": 17,
     "metadata": {},
     "output_type": "execute_result"
    }
   ],
   "source": [
    "sesgos['resultados']"
   ]
  },
  {
   "cell_type": "code",
   "execution_count": null,
   "metadata": {},
   "outputs": [],
   "source": []
  }
 ],
 "metadata": {
  "kernelspec": {
   "display_name": "Python 3",
   "language": "python",
   "name": "python3"
  },
  "language_info": {
   "codemirror_mode": {
    "name": "ipython",
    "version": 3
   },
   "file_extension": ".py",
   "mimetype": "text/x-python",
   "name": "python",
   "nbconvert_exporter": "python",
   "pygments_lexer": "ipython3",
   "version": "3.7.3"
  }
 },
 "nbformat": 4,
 "nbformat_minor": 2
}

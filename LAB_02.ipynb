{
 "cells": [
  {
   "cell_type": "markdown",
   "metadata": {},
   "source": [
    "<img src=\"http://oci02.img.iteso.mx/identidad_de_instancia_2018/ITESO/Logos%20ITESO/Logo-ITESO-Principal.jpg\">"
   ]
  },
  {
   "cell_type": "markdown",
   "metadata": {},
   "source": [
    "<center> <font color= #004A94> <font size = 6> Lic. Ingeniería Financiera </font> <br> <br> <font color= #AABCBB> <font size = 4>I.F. Karen Violeta García Hernandez - if707178@iteso.mx </font>"
   ]
  },
  {
   "cell_type": "markdown",
   "metadata": {},
   "source": [
    "<center><font color=#50C8C4><font size=5> Laboratorio 2: Behavioral Finance </font> <br> <br>"
   ]
  },
  {
   "cell_type": "markdown",
   "metadata": {},
   "source": [
    "<center> <font color= #004A94 > <font size = 4> Primavera 2020 </font>  |  <font color= #004A94> <font size = 4> Repositorio: <a href='https://github.com/violetarcia/LAB_02_KVGH.git'>Link</a></font>"
   ]
  },
  {
   "cell_type": "markdown",
   "metadata": {},
   "source": [
    "______"
   ]
  },
  {
   "cell_type": "markdown",
   "metadata": {},
   "source": [
    "<div style=\"text-align:center\"><span style=\"color:#50C8C4; font-family:Georgia; font-size:2.2em;\"> Resumen </span></div>"
   ]
  },
  {
   "cell_type": "markdown",
   "metadata": {},
   "source": [
    "<p style = \"font-family: Calibri Light; font-size:1.3em;color:black; LINE-HEIGHT:25px\"> Este laboratorio tiene como propósito particular el elaborar herramientas para el análisis del desempeño de la actividad de trading, desde el punto de vista de la cuenta y desde el punto de vista de la persona que opera la cuenta (trader). Por lo tanto, este laboratorio estará dividido en 4 partes, cada una, servirá para cumplir con la estructura básica de proyectos para sistemas de trading y las otras 3 partes son relacionadas cada una a los propósitos del módulo completo. </p>"
   ]
  },
  {
   "cell_type": "markdown",
   "metadata": {},
   "source": [
    "______"
   ]
  },
  {
   "cell_type": "markdown",
   "metadata": {},
   "source": [
    "<div style=\"text-align:center\"><span style=\"color:#50C8C4; font-family:Georgia; font-size:2.2em;\"> Estructura </span></div>"
   ]
  },
  {
   "cell_type": "markdown",
   "metadata": {},
   "source": [
    "> <span style=\"color:#004A94; font-family:Georgia; font-size:1.7em;\"> Parte I </span>\n",
    "\n",
    "<p style = \"font-family: Calibri Light; font-size:1.3em;color:black; LINE-HEIGHT:25px\"> En la primera parte de este laboratorio, se definió la estructura básica de la forma en la que se trabajaría para abordar tal problemática, la cual, en términos generales, se define como:  </p>\n",
    "\n",
    "- _La evaluación de un trader a través de su información histórica de operaciones en la cuenta que este mismo está a cargo, adhiriendo aspectos de behavioural finance._\n",
    "\n",
    "<p style = \"font-family: Calibri Light; font-size:1.3em;color:black; LINE-HEIGHT:25px\"> El repositorio se constituye de la siguiente manera: </p>\n",
    "\n",
    "| Elemento | Tipo | Contenido |\n",
    "| :---:   | :-: | :-: |\n",
    "| archivos | carpeta | Archivos con precios históricos |\n",
    "| datos.py | Script de Python 3 | Variables y datos relevantes |\n",
    "| funciones.py | Script de Python 3 | Funciones para procesamiento de datos |\n",
    "| visualizaciones.py | Script de Python 3 | Funciones para visualización de datos |\n",
    "| principal.py | Script de Python 3 | Ejecutar secuencialmente el proyecto completo |\n",
    "| LAB_02.ipynb | Jupyter Notebook | Explicaciones del proyecto |\n",
    "| README.md | Archivo de Markdown | Información basica del proyecto |"
   ]
  },
  {
   "cell_type": "markdown",
   "metadata": {},
   "source": [
    "_______________"
   ]
  },
  {
   "cell_type": "markdown",
   "metadata": {},
   "source": [
    "<div style=\"text-align:center\"><span style=\"color:#50C8C4; font-family:Georgia; font-size:2.0em;\"> Código </span></div>"
   ]
  },
  {
   "cell_type": "markdown",
   "metadata": {},
   "source": [
    "<p style = \"font-family: Calibri Light; font-size:1.3em;color:black; LINE-HEIGHT:25px\"> A continuación se desglosa el código con el cual se analizan las operaciones de una cuenta de OANDA </p>"
   ]
  },
  {
   "cell_type": "code",
   "execution_count": null,
   "metadata": {},
   "outputs": [],
   "source": [
    "import funciones as fn                              # Para procesamiento de datos\n",
    "import visualizaciones as vs                        # Para visualizacion de datos"
   ]
  },
  {
   "cell_type": "markdown",
   "metadata": {},
   "source": [
    "> <span style=\"color:#004A94; font-family:Georgia; font-size:1.7em;\"> Parte II </span>\n",
    "\n",
    "<p style = \"font-family: Calibri Light; font-size:1.3em;color:black; LINE-HEIGHT:25px\"> El objetivo de esta parte es realizar mediciones de estadísticas básicas de una cuenta de trading. Para efectuar esto, es necesario empezar con el primer paso, el cual basicamente consiste en leer el archivo en excel que se encuentra en la carpeta de archivos, este mismo previamente se tuvo que descargar de la cuenta de trading de OANDA.</p>"
   ]
  },
  {
   "cell_type": "code",
   "execution_count": null,
   "metadata": {},
   "outputs": [],
   "source": [
    "# Leer archivo (el de Francisco es el 2)\n",
    "data = fn.f_leer_archivo('archivo_tradeview_2.xlsx')\n",
    "data.head()"
   ]
  },
  {
   "cell_type": "markdown",
   "metadata": {},
   "source": [
    "<p style = \"font-family: Calibri Light; font-size:1.3em;color:black; LINE-HEIGHT:25px\"> Como se observa, la función 'f_leer_archivo' requiere el path para indicarle en donde está el archivo de excel que contenga las operaciones históricas del trader. Otro punto a destacar es que, debido a la manera en está programada tal función, es necesario que el nombre de la hoja sea 'Hoja1' así como contener las siguientes columnas:</p>\n",
    "\n",
    "|    |  |  |    |  |  |    |  |  |\n",
    "| :-:   | :-: | :-: | :-:   | :-: | :-: | :-:   | :-: | :-: |\n",
    "|I   Order  I |  Size  I  |  Openprice  I|  S/L  I  |  T/P  I  |  Closeprice  I|  Taxes  I  |  Swap  I  | Profit  I|\n",
    "\n",
    "\n",
    "<p style = \"font-family: Calibri Light; font-size:1.3em;color:black; LINE-HEIGHT:25px\"> Ya que la función se cerciora que estas columnas sean de tipo numérico ya que esto es de suma importancia para el resto del proyecto</p>\n"
   ]
  },
  {
   "cell_type": "markdown",
   "metadata": {},
   "source": [
    "<p style = \"font-family: Calibri Light; font-size:1.3em;color:black; LINE-HEIGHT:25px\"> A partir de esto, se le agrega columnas a 'data'. Una donde, con 'f_columna_tiempo', se calcula el tiempo en segundos de lo que duro cada operación abierta, es decir restando el closetime y el opentime. Una segunda columna que se le agrega es la de pips, a traves de la función 'f_columna_pips' cuya función tambien agrega otras dos columnas que son la de pips acumulado y el profit acumulado. Asimismo, a parte de estas columnas agregadas al archivo que ahora se encuentra en un objeto tipo DataFrame (data), tambien se calculan ciertas estadisticas básicas con la funcion de 'f_estadistica_ba' cuyas salidas son 2, la primera siendo df_1_tabla que es un DataFrame con tales calculos, y df_2_ranking que basicamente es el ranking de los instrumentos utilizados por el trader que fueron ganadoras. </p>"
   ]
  },
  {
   "cell_type": "code",
   "execution_count": null,
   "metadata": {},
   "outputs": [],
   "source": [
    "# Agregar la columna de los tiempos\n",
    "fn.f_columna_tiempos(data)\n",
    "\n",
    "# Agregar columna de pips\n",
    "fn.f_columna_pips(data)\n",
    "\n",
    "# DataFrames de Estadisticas basicas y ranking\n",
    "df_1_tabla, df_2_ranking = fn.f_estadistica_ba(data)\n",
    "df_1_tabla"
   ]
  },
  {
   "cell_type": "markdown",
   "metadata": {},
   "source": [
    "<p style = \"font-family: Calibri Light; font-size:1.3em;color:black; LINE-HEIGHT:25px\"> Se puede observar df_1_tabla, donde se pone el nombre de cada calculo en el indice, el valor de cada calculo en la columna 0 y su descripcion en la 1. A continuacion se muestra el ranking en donde se muestra que, de todas las operaciones hechas de tal instrumento, saber el porcentaje de las que tuvieron un resultado positivo (profit > 0)</p>"
   ]
  },
  {
   "cell_type": "code",
   "execution_count": null,
   "metadata": {},
   "outputs": [],
   "source": [
    "df_2_ranking"
   ]
  },
  {
   "cell_type": "code",
   "execution_count": null,
   "metadata": {},
   "outputs": [],
   "source": [
    "vs.fig_rank"
   ]
  },
  {
   "cell_type": "markdown",
   "metadata": {},
   "source": [
    "> <span style=\"color:#004A94; font-family:Georgia; font-size:1.7em;\"> Parte III </span>\n",
    "\n",
    "<p style = \"font-family: Calibri Light; font-size:1.3em;color:black; LINE-HEIGHT:25px\"> El objetivo de esta tercera parte es calcular Medidas de Atribución al Desempeño expresadas semanalmente de la cuenta de trading y de la actividad del trader como persona.</p>"
   ]
  },
  {
   "cell_type": "code",
   "execution_count": null,
   "metadata": {},
   "outputs": [],
   "source": [
    "# Agregar capital acumulado\n",
    "fn.f_columna_capital_acm(data)\n",
    "\n",
    "# DataFrame de profits\n",
    "df_profit = fn.f_profit_diario(data)\n",
    "\n",
    "# Agregar rendimientos del profit acumulado\n",
    "fn.log_dailiy_rends(df_profit, 'profit_acm')\n",
    "\n",
    "df_profit.head()"
   ]
  },
  {
   "cell_type": "code",
   "execution_count": null,
   "metadata": {},
   "outputs": [],
   "source": [
    "# Estadisticas de metricas de desempeño\n",
    "df_profit_estad = fn.f_estadisticas_mad(data)\n",
    "df_profit_estad"
   ]
  },
  {
   "cell_type": "markdown",
   "metadata": {},
   "source": [
    "<p style = \"font-family: Calibri Light; font-size:1.4em;color:#50C8C4; LINE-HEIGHT:25px\"> Sharpe: </p>\n",
    "\n",
    "<p style = \"font-family: Calibri Light; font-size:1.3em;color:black; LINE-HEIGHT:25px\"> Mide el rendimiento promedio excedente sobre la tasa libre de riesgo por unidad de riesgo incurrido. Es decir, es un indicativo del rendimiento esperado del trader por encima de la tasa libre de riesgo descontando el riesgo en el que incurre.  Mientras sea mas alto el valor del ratio, significa que el numerador fue muy grande o que el denominador fue muy pequeño. Esto, en terminos financieros, podría interpretarse que un Sharpe es alto cuando se tiene un rendimiento excedente despues de la tasa libre de riesgo alto, y/o, que la volatilidad de los rendimientos de la estrategia de trading fue baja. Otra manera más simple de pensarlo es que el trader hizo mucho más rendimiento que el riesgo en el que incurre.</p>\n",
    "\n",
    "\n",
    "<p style = \"font-family: Calibri Light; font-size:1.4em;color:#50C8C4; LINE-HEIGHT:25px\">Sortino Ratio:</p>\n",
    "\n",
    "<p style = \"font-family: Calibri Light; font-size:1.3em;color:black; LINE-HEIGHT:25px\"> Derivado del Sharpe Ratio, el Sortio Ratio es una medida que incorpora 2 conceptos especiales: 1) el MAR o \"Minimum Acceptable Return\" (algunos fondos y profesionales se refieren a esto como DTR o Desired Target Return) y es el rendimiento promedio objetivo que se desea obtener del trader. 2) el TDD o \"Target Downside Deviation\" se calcula con los rendimientos por periodo que estén por debajo del MAR, es decir, TDD es la volatilidad de los rendimientos por debajo del rendimiento objetivo.</p> \n",
    "\n",
    "\n",
    "<p style = \"font-family: Calibri Light; font-size:1.4em;color:#50C8C4; LINE-HEIGHT:25px\">Drawdown / DrawUp:</p>\n",
    "\n",
    "<p style = \"font-family: Calibri Light; font-size:1.3em;color:black; LINE-HEIGHT:25px\"> La minusvalía/plusvalía máxima que se presentó en la evolución del capital. Esta medida puede ser calculada, tanto para información temporalmente medida en los mismos intervalos o equidistante (ej. rendimientos diarios) y también para información obtenida en intervalos distintos o no equidistante (ej: rendimiento por operación). Esto es posible ya que lo que se busca obtener de información es la fecha inicial, la fecha final y la magnitud del periodo donde la acumulación de pérdida/ganancia de capital resultó ser la mayor dentro del periodo de tiempo analizado.</p>\n",
    "\n",
    "\n",
    "<p style = \"font-family: Calibri Light; font-size:1.4em;color:#50C8C4; LINE-HEIGHT:25px\">Information Ratio:</p>\n",
    "\n",
    "<p style = \"font-family: Calibri Light; font-size:1.3em;color:black; LINE-HEIGHT:25px\"> Es una medida similar al Sharpe, con la diferencia de incorporar información del benchmark. En el cálculo de esta medida se reemplaza en el numerador la tasa libre de riesgo por el rendimiento del benchmark y en el denominador se utiliza la información de todos los rendimientos de la estrategia de trading una vez que se descuentan los rendimientos del benchmark. De tal manera que, al descontar la información del mercado para el rendimiento (numerador) como para la medida de riesgo (numerador) se está buscando tener una medida de la \"información\" extra que el trader tiene/genera o que logra capturar de comportamiento de los activos y que podría hacer que sus cifras sean mejores que las de un benchmark.</p>"
   ]
  },
  {
   "cell_type": "code",
   "execution_count": null,
   "metadata": {},
   "outputs": [],
   "source": [
    "vs.fig_dd"
   ]
  },
  {
   "cell_type": "markdown",
   "metadata": {},
   "source": [
    "> <span style=\"color:#004A94; font-family:Georgia; font-size:1.7em;\"> Parte IV </span>\n",
    "\n",
    "<p style = \"font-family: Calibri Light; font-size:1.3em;color:black; LINE-HEIGHT:25px\"> El objetivo de esta cuarta y ultima parte es proponer, diseñar y calcular una función para obtener evidencia sobre la presencia de sesgos cognitivos en un trader.</p>\n",
    "\n",
    ".\n",
    "\n",
    "<span style=\"color:#AABCBB; font-family:Georgia; font-size:1.4em;\"> Disposition Effect </span>\n",
    "\n",
    "<p style = \"font-family: Calibri Light; font-size:1.3em;color:black; LINE-HEIGHT:25px\"> Este sesgo cognitivo propuesto por los autores Kahneman y Tversky, para el caso de trading, aplica como el efecto que se puede observar en el histórico de un trader sobre el hecho que tiende a cortar las ganancias rápido y mantener las pérdidas mucho tiempo, es decir, a materializar las ganancias mas frecuentemente que las pérdidas.</p>"
   ]
  },
  {
   "cell_type": "code",
   "execution_count": null,
   "metadata": {},
   "outputs": [],
   "source": [
    "# Operaciones ganadora vs perdedora (ocurrencia)\n",
    "sesgos = fn.f_sesgos_cognitivo(data)"
   ]
  }
 ],
 "metadata": {
  "kernelspec": {
   "display_name": "Python 3",
   "language": "python",
   "name": "python3"
  },
  "language_info": {
   "codemirror_mode": {
    "name": "ipython",
    "version": 3
   },
   "file_extension": ".py",
   "mimetype": "text/x-python",
   "name": "python",
   "nbconvert_exporter": "python",
   "pygments_lexer": "ipython3",
   "version": "3.7.3"
  }
 },
 "nbformat": 4,
 "nbformat_minor": 2
}

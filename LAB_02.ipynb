{
 "cells": [
  {
   "cell_type": "markdown",
   "metadata": {},
   "source": [
    "<img src=\"http://oci02.img.iteso.mx/identidad_de_instancia_2018/ITESO/Logos%20ITESO/Logo-ITESO-Principal.jpg\">"
   ]
  },
  {
   "cell_type": "markdown",
   "metadata": {},
   "source": [
    "<center> <font color= #004A94> <font size = 6> Lic. Ingeniería Financiera </font> <br> <br> <font color= #AABCBB> <font size = 4>I.F. Karen Violeta García Hernandez - if707178@iteso.mx </font>"
   ]
  },
  {
   "cell_type": "markdown",
   "metadata": {},
   "source": [
    "<center><font color=#50C8C4><font size=5> Laboratorio 2: Behavioral Finance </font> <br> <br>"
   ]
  },
  {
   "cell_type": "markdown",
   "metadata": {},
   "source": [
    "<center> <font color= #004A94 > <font size = 4> Primavera 2020 </font>  |  <font color= #004A94> <font size = 4> Repositorio: <a href='https://github.com/violetarcia/LAB_02_KVGH.git'>Link</a></font>"
   ]
  },
  {
   "cell_type": "markdown",
   "metadata": {},
   "source": [
    "______"
   ]
  },
  {
   "cell_type": "markdown",
   "metadata": {},
   "source": [
    "<div style=\"text-align:center\"><span style=\"color:#50C8C4; font-family:Georgia; font-size:2.2em;\"> Resumen </span></div>"
   ]
  },
  {
   "cell_type": "markdown",
   "metadata": {},
   "source": [
    "<p style = \"font-family: Calibri Light; font-size:1.3em;color:black; LINE-HEIGHT:25px\"> Este laboratorio tiene como propósito particular el elaborar herramientas para el análisis del desempeño de la actividad de trading, desde el punto de vista de la cuenta y desde el punto de vista de la persona que opera la cuenta (trader). Por lo tanto, este laboratorio estará dividido en 4 partes, cada una, servirá para cumplir con la estructura básica de proyectos para sistemas de trading y las otras 3 partes son relacionadas cada una a los propósitos del módulo completo. </p>"
   ]
  },
  {
   "cell_type": "markdown",
   "metadata": {},
   "source": [
    "______"
   ]
  },
  {
   "cell_type": "markdown",
   "metadata": {},
   "source": [
    "<div style=\"text-align:center\"><span style=\"color:#50C8C4; font-family:Georgia; font-size:2.2em;\"> Estructura </span></div>"
   ]
  },
  {
   "cell_type": "markdown",
   "metadata": {},
   "source": [
    "> <span style=\"color:#004A94; font-family:Georgia; font-size:1.7em;\"> Parte I </span>\n",
    "\n",
    "<p style = \"font-family: Calibri Light; font-size:1.3em;color:black; LINE-HEIGHT:25px\"> En la primera parte de este laboratorio, se definió la estructura básica de la forma en la que se trabajaría para abordar tal problemática, la cual, en términos generales, se define como:  </p>\n",
    "\n",
    "- _La evaluación de un trader a través de su información histórica de operaciones en la cuenta que este mismo está a cargo, adhiriendo aspectos de behavioural finance._\n",
    "\n",
    "<p style = \"font-family: Calibri Light; font-size:1.3em;color:black; LINE-HEIGHT:25px\"> El repositorio se constituye de la siguiente manera: </p>\n",
    "\n",
    "| Elemento | Tipo | Contenido |\n",
    "| :---:   | :-: | :-: |\n",
    "| archivos | carpeta | Archivos con precios históricos |\n",
    "| datos.py | Script de Python 3 | Variables y datos relevantes |\n",
    "| funciones.py | Script de Python 3 | Funciones para procesamiento de datos |\n",
    "| visualizaciones.py | Script de Python 3 | Funciones para visualización de datos |\n",
    "| principal.py | Script de Python 3 | Ejecutar secuencialmente el proyecto completo |\n",
    "| LAB_02.ipynb | Jupyter Notebook | Explicaciones del proyecto |\n",
    "| README.md | Archivo de Markdown | Información basica del proyecto |"
   ]
  },
  {
   "cell_type": "markdown",
   "metadata": {},
   "source": [
    "_______________"
   ]
  },
  {
   "cell_type": "markdown",
   "metadata": {},
   "source": [
    "<div style=\"text-align:center\"><span style=\"color:#50C8C4; font-family:Georgia; font-size:2.0em;\"> Código </span></div>"
   ]
  },
  {
   "cell_type": "markdown",
   "metadata": {},
   "source": [
    "<p style = \"font-family: Calibri Light; font-size:1.3em;color:black; LINE-HEIGHT:25px\"> A continuación se desglosa el código con el cual se analizan las operaciones de una cuenta de OANDA </p>"
   ]
  },
  {
   "cell_type": "code",
   "execution_count": 1,
   "metadata": {},
   "outputs": [
    {
     "name": "stdout",
     "output_type": "stream",
     "text": [
      "37.472973585128784\n"
     ]
    },
    {
     "data": {
      "text/plain": [
       "<Figure size 640x480 with 1 Axes>"
      ]
     },
     "metadata": {},
     "output_type": "display_data"
    },
    {
     "data": {
      "text/plain": [
       "<Figure size 640x480 with 1 Axes>"
      ]
     },
     "metadata": {},
     "output_type": "display_data"
    }
   ],
   "source": [
    "import funciones as fn                              # Para procesamiento de datos\n",
    "import visualizaciones as vs                        # Para visualizacion de datos"
   ]
  },
  {
   "cell_type": "markdown",
   "metadata": {},
   "source": [
    "> <span style=\"color:#004A94; font-family:Georgia; font-size:1.7em;\"> Parte II </span>\n",
    "\n",
    "<p style = \"font-family: Calibri Light; font-size:1.3em;color:black; LINE-HEIGHT:25px\"> El objetivo de esta parte es realizar mediciones de estadísticas básicas de una cuenta de trading. Para efectuar esto, es necesario empezar con el primer paso, el cual basicamente consiste en leer el archivo en excel que se encuentra en la carpeta de archivos, este mismo previamente se tuvo que descargar de la cuenta de trading de OANDA.</p>"
   ]
  },
  {
   "cell_type": "code",
   "execution_count": 2,
   "metadata": {},
   "outputs": [
    {
     "data": {
      "text/html": [
       "<div>\n",
       "<style scoped>\n",
       "    .dataframe tbody tr th:only-of-type {\n",
       "        vertical-align: middle;\n",
       "    }\n",
       "\n",
       "    .dataframe tbody tr th {\n",
       "        vertical-align: top;\n",
       "    }\n",
       "\n",
       "    .dataframe thead th {\n",
       "        text-align: right;\n",
       "    }\n",
       "</style>\n",
       "<table border=\"1\" class=\"dataframe\">\n",
       "  <thead>\n",
       "    <tr style=\"text-align: right;\">\n",
       "      <th></th>\n",
       "      <th>order</th>\n",
       "      <th>opentime</th>\n",
       "      <th>type</th>\n",
       "      <th>size</th>\n",
       "      <th>symbol</th>\n",
       "      <th>openprice</th>\n",
       "      <th>s/l</th>\n",
       "      <th>t/p</th>\n",
       "      <th>closetime</th>\n",
       "      <th>closeprice</th>\n",
       "      <th>commission</th>\n",
       "      <th>taxes</th>\n",
       "      <th>swap</th>\n",
       "      <th>profit</th>\n",
       "    </tr>\n",
       "  </thead>\n",
       "  <tbody>\n",
       "    <tr>\n",
       "      <th>0</th>\n",
       "      <td>24311675</td>\n",
       "      <td>2019.08.27 06:18:03</td>\n",
       "      <td>sell</td>\n",
       "      <td>0.04</td>\n",
       "      <td>eurjpy</td>\n",
       "      <td>117.40700</td>\n",
       "      <td>117.7000</td>\n",
       "      <td>0.000</td>\n",
       "      <td>2019.08.27 06:20:11</td>\n",
       "      <td>117.42300</td>\n",
       "      <td>0.0</td>\n",
       "      <td>0</td>\n",
       "      <td>0</td>\n",
       "      <td>-0.61</td>\n",
       "    </tr>\n",
       "    <tr>\n",
       "      <th>1</th>\n",
       "      <td>24311730</td>\n",
       "      <td>2019.08.27 06:22:44</td>\n",
       "      <td>sell</td>\n",
       "      <td>0.04</td>\n",
       "      <td>eurjpy</td>\n",
       "      <td>117.38900</td>\n",
       "      <td>117.7000</td>\n",
       "      <td>0.000</td>\n",
       "      <td>2019.08.27 06:23:28</td>\n",
       "      <td>117.41200</td>\n",
       "      <td>0.0</td>\n",
       "      <td>0</td>\n",
       "      <td>0</td>\n",
       "      <td>-0.87</td>\n",
       "    </tr>\n",
       "    <tr>\n",
       "      <th>2</th>\n",
       "      <td>24311745</td>\n",
       "      <td>2019.08.27 06:23:44</td>\n",
       "      <td>sell</td>\n",
       "      <td>0.04</td>\n",
       "      <td>eurjpy</td>\n",
       "      <td>117.36800</td>\n",
       "      <td>0.0000</td>\n",
       "      <td>0.000</td>\n",
       "      <td>2019.08.27 06:24:13</td>\n",
       "      <td>117.40200</td>\n",
       "      <td>0.0</td>\n",
       "      <td>0</td>\n",
       "      <td>0</td>\n",
       "      <td>-1.29</td>\n",
       "    </tr>\n",
       "    <tr>\n",
       "      <th>3</th>\n",
       "      <td>24316034</td>\n",
       "      <td>2019.08.27 06:57:50</td>\n",
       "      <td>buy</td>\n",
       "      <td>0.04</td>\n",
       "      <td>xauusd</td>\n",
       "      <td>1529.21000</td>\n",
       "      <td>1523.0000</td>\n",
       "      <td>1543.000</td>\n",
       "      <td>2019.08.27 09:16:01</td>\n",
       "      <td>1533.69000</td>\n",
       "      <td>0.0</td>\n",
       "      <td>0</td>\n",
       "      <td>0</td>\n",
       "      <td>17.92</td>\n",
       "    </tr>\n",
       "    <tr>\n",
       "      <th>4</th>\n",
       "      <td>24315970</td>\n",
       "      <td>2019.08.27 06:52:01</td>\n",
       "      <td>sell</td>\n",
       "      <td>0.04</td>\n",
       "      <td>eurusd</td>\n",
       "      <td>1.11005</td>\n",
       "      <td>1.1126</td>\n",
       "      <td>1.107</td>\n",
       "      <td>2019.08.27 09:16:04</td>\n",
       "      <td>1.11027</td>\n",
       "      <td>0.0</td>\n",
       "      <td>0</td>\n",
       "      <td>0</td>\n",
       "      <td>-0.88</td>\n",
       "    </tr>\n",
       "  </tbody>\n",
       "</table>\n",
       "</div>"
      ],
      "text/plain": [
       "      order             opentime  type  size  symbol   openprice        s/l  \\\n",
       "0  24311675  2019.08.27 06:18:03  sell  0.04  eurjpy   117.40700   117.7000   \n",
       "1  24311730  2019.08.27 06:22:44  sell  0.04  eurjpy   117.38900   117.7000   \n",
       "2  24311745  2019.08.27 06:23:44  sell  0.04  eurjpy   117.36800     0.0000   \n",
       "3  24316034  2019.08.27 06:57:50   buy  0.04  xauusd  1529.21000  1523.0000   \n",
       "4  24315970  2019.08.27 06:52:01  sell  0.04  eurusd     1.11005     1.1126   \n",
       "\n",
       "        t/p            closetime  closeprice  commission  taxes  swap  profit  \n",
       "0     0.000  2019.08.27 06:20:11   117.42300         0.0      0     0   -0.61  \n",
       "1     0.000  2019.08.27 06:23:28   117.41200         0.0      0     0   -0.87  \n",
       "2     0.000  2019.08.27 06:24:13   117.40200         0.0      0     0   -1.29  \n",
       "3  1543.000  2019.08.27 09:16:01  1533.69000         0.0      0     0   17.92  \n",
       "4     1.107  2019.08.27 09:16:04     1.11027         0.0      0     0   -0.88  "
      ]
     },
     "execution_count": 2,
     "metadata": {},
     "output_type": "execute_result"
    }
   ],
   "source": [
    "# Leer archivo (el de Francisco es el 2)\n",
    "data = fn.f_leer_archivo('archivo_tradeview_2.xlsx')\n",
    "data.head()"
   ]
  },
  {
   "cell_type": "markdown",
   "metadata": {},
   "source": [
    "<p style = \"font-family: Calibri Light; font-size:1.3em;color:black; LINE-HEIGHT:25px\"> Como se observa, la función 'f_leer_archivo' requiere el nombre del archivo para indicarle cual es el archivo de excel que contiene las operaciones históricas del trader, el path . Otro punto a destacar es que, debido a la manera en que está programada tal función, es necesario que el nombre de la hoja sea 'Hoja1' así como contener las siguientes columnas:</p>\n",
    "\n",
    "|    |  |  |    |  |  |    |  |  |\n",
    "| :-:   | :-: | :-: | :-:   | :-: | :-: | :-:   | :-: | :-: |\n",
    "|I   Order  I |  Size  I  |  Openprice  I|  S/L  I  |  T/P  I  |  Closeprice  I|  Taxes  I  |  Swap  I  | Profit  I|\n",
    "\n",
    "\n",
    "<p style = \"font-family: Calibri Light; font-size:1.3em;color:black; LINE-HEIGHT:25px\"> Ya que la función se cerciora que estas columnas sean de tipo numérico debido a que estos datos son de suma importancia para el resto del proyecto.</p>\n"
   ]
  },
  {
   "cell_type": "markdown",
   "metadata": {},
   "source": [
    "<p style = \"font-family: Calibri Light; font-size:1.3em;color:black; LINE-HEIGHT:25px\"> A partir de esto, se le agrega columnas a 'data'. Una donde, con 'f_columna_tiempo', se calcula el tiempo en segundos de lo que duro cada operación abierta, es decir restando el closetime y el opentime. Una segunda columna que se le agrega es la de pips, a traves de la función 'f_columna_pips' cuya función tambien agrega otras dos columnas que son la de pips acumulado y el profit acumulado. Asimismo, a parte de estas columnas agregadas al archivo que ahora se encuentra en un objeto tipo DataFrame (data), tambien se calculan ciertas estadisticas básicas con la funcion de 'f_estadistica_ba' cuyas salidas son 2, la primera siendo df_1_tabla que es un DataFrame con tales calculos, y df_2_ranking que basicamente es el ranking de los instrumentos utilizados por el trader que fueron ganadoras. </p>"
   ]
  },
  {
   "cell_type": "code",
   "execution_count": 3,
   "metadata": {},
   "outputs": [
    {
     "data": {
      "text/html": [
       "<div>\n",
       "<style scoped>\n",
       "    .dataframe tbody tr th:only-of-type {\n",
       "        vertical-align: middle;\n",
       "    }\n",
       "\n",
       "    .dataframe tbody tr th {\n",
       "        vertical-align: top;\n",
       "    }\n",
       "\n",
       "    .dataframe thead th {\n",
       "        text-align: right;\n",
       "    }\n",
       "</style>\n",
       "<table border=\"1\" class=\"dataframe\">\n",
       "  <thead>\n",
       "    <tr style=\"text-align: right;\">\n",
       "      <th></th>\n",
       "      <th>Valor</th>\n",
       "      <th>Descripcion</th>\n",
       "    </tr>\n",
       "  </thead>\n",
       "  <tbody>\n",
       "    <tr>\n",
       "      <th>Ops totales</th>\n",
       "      <td>84</td>\n",
       "      <td>Operaciones totales</td>\n",
       "    </tr>\n",
       "    <tr>\n",
       "      <th>Ganadoras</th>\n",
       "      <td>46</td>\n",
       "      <td>Operaciones ganadoras</td>\n",
       "    </tr>\n",
       "    <tr>\n",
       "      <th>Ganadoras_c</th>\n",
       "      <td>20</td>\n",
       "      <td>Operaciones ganadoras de compra</td>\n",
       "    </tr>\n",
       "    <tr>\n",
       "      <th>Ganadoras_v</th>\n",
       "      <td>26</td>\n",
       "      <td>Operaciones ganadoras de venta</td>\n",
       "    </tr>\n",
       "    <tr>\n",
       "      <th>Perdedoras</th>\n",
       "      <td>38</td>\n",
       "      <td>Operaciones perdedoras</td>\n",
       "    </tr>\n",
       "    <tr>\n",
       "      <th>Perdedoras_c</th>\n",
       "      <td>19</td>\n",
       "      <td>Operaciones perdedoras de compra</td>\n",
       "    </tr>\n",
       "    <tr>\n",
       "      <th>Perdedoras_v</th>\n",
       "      <td>19</td>\n",
       "      <td>Operaciones perdedoras de venta</td>\n",
       "    </tr>\n",
       "    <tr>\n",
       "      <th>Media (Profit)</th>\n",
       "      <td>1.205</td>\n",
       "      <td>Mediana de profit de las operaciones</td>\n",
       "    </tr>\n",
       "    <tr>\n",
       "      <th>Media (Pips)</th>\n",
       "      <td>3.6</td>\n",
       "      <td>Mediana de pips de las operaciones</td>\n",
       "    </tr>\n",
       "    <tr>\n",
       "      <th>r_efectividad</th>\n",
       "      <td>0.547619</td>\n",
       "      <td>Ganadoras Totales/Operaciones Totales</td>\n",
       "    </tr>\n",
       "    <tr>\n",
       "      <th>r_proporcion</th>\n",
       "      <td>1.21053</td>\n",
       "      <td>Ganadoras Totales/ Perdedoras Totales</td>\n",
       "    </tr>\n",
       "    <tr>\n",
       "      <th>r_efectividad_c</th>\n",
       "      <td>0.238095</td>\n",
       "      <td>Ganadoras Compras/ Operaciones Totales</td>\n",
       "    </tr>\n",
       "    <tr>\n",
       "      <th>r_efectividad_v</th>\n",
       "      <td>0.309524</td>\n",
       "      <td>Ganadoras Ventas/ Operaciones Totales</td>\n",
       "    </tr>\n",
       "  </tbody>\n",
       "</table>\n",
       "</div>"
      ],
      "text/plain": [
       "                    Valor                             Descripcion\n",
       "Ops totales            84                     Operaciones totales\n",
       "Ganadoras              46                   Operaciones ganadoras\n",
       "Ganadoras_c            20         Operaciones ganadoras de compra\n",
       "Ganadoras_v            26          Operaciones ganadoras de venta\n",
       "Perdedoras             38                  Operaciones perdedoras\n",
       "Perdedoras_c           19        Operaciones perdedoras de compra\n",
       "Perdedoras_v           19         Operaciones perdedoras de venta\n",
       "Media (Profit)      1.205    Mediana de profit de las operaciones\n",
       "Media (Pips)          3.6      Mediana de pips de las operaciones\n",
       "r_efectividad    0.547619   Ganadoras Totales/Operaciones Totales\n",
       "r_proporcion      1.21053   Ganadoras Totales/ Perdedoras Totales\n",
       "r_efectividad_c  0.238095  Ganadoras Compras/ Operaciones Totales\n",
       "r_efectividad_v  0.309524   Ganadoras Ventas/ Operaciones Totales"
      ]
     },
     "execution_count": 3,
     "metadata": {},
     "output_type": "execute_result"
    }
   ],
   "source": [
    "# Agregar la columna de los tiempos\n",
    "fn.f_columna_tiempos(data)\n",
    "\n",
    "# Agregar columna de pips\n",
    "fn.f_columna_pips(data)\n",
    "\n",
    "# DataFrames de Estadisticas basicas y ranking\n",
    "df_estadistic = fn.f_estadistica_ba(data)\n",
    "df_1_tabla = df_estadistic['estadisticas']\n",
    "df_1_tabla"
   ]
  },
  {
   "cell_type": "markdown",
   "metadata": {},
   "source": [
    "<p style = \"font-family: Calibri Light; font-size:1.3em;color:black; LINE-HEIGHT:25px\"> Se puede observar df_1_tabla, donde se pone el nombre de cada calculo en el indice, el valor de cada calculo en la columna 0 y su descripcion en la 1. A continuacion se muestra el ranking en donde se muestra que, de todas las operaciones hechas de tal instrumento, saber el porcentaje de las que tuvieron un resultado positivo (profit > 0)</p>"
   ]
  },
  {
   "cell_type": "code",
   "execution_count": 4,
   "metadata": {},
   "outputs": [
    {
     "data": {
      "text/html": [
       "<div>\n",
       "<style scoped>\n",
       "    .dataframe tbody tr th:only-of-type {\n",
       "        vertical-align: middle;\n",
       "    }\n",
       "\n",
       "    .dataframe tbody tr th {\n",
       "        vertical-align: top;\n",
       "    }\n",
       "\n",
       "    .dataframe thead th {\n",
       "        text-align: right;\n",
       "    }\n",
       "</style>\n",
       "<table border=\"1\" class=\"dataframe\">\n",
       "  <thead>\n",
       "    <tr style=\"text-align: right;\">\n",
       "      <th></th>\n",
       "      <th>ranking</th>\n",
       "    </tr>\n",
       "  </thead>\n",
       "  <tbody>\n",
       "    <tr>\n",
       "      <th>eurgbp</th>\n",
       "      <td>1.000000</td>\n",
       "    </tr>\n",
       "    <tr>\n",
       "      <th>btcusd</th>\n",
       "      <td>1.000000</td>\n",
       "    </tr>\n",
       "    <tr>\n",
       "      <th>usdmxn</th>\n",
       "      <td>0.800000</td>\n",
       "    </tr>\n",
       "    <tr>\n",
       "      <th>xauusd</th>\n",
       "      <td>0.736842</td>\n",
       "    </tr>\n",
       "    <tr>\n",
       "      <th>gbpusd</th>\n",
       "      <td>0.666667</td>\n",
       "    </tr>\n",
       "    <tr>\n",
       "      <th>usdjpy</th>\n",
       "      <td>0.600000</td>\n",
       "    </tr>\n",
       "    <tr>\n",
       "      <th>eurusd</th>\n",
       "      <td>0.478261</td>\n",
       "    </tr>\n",
       "    <tr>\n",
       "      <th>audusd</th>\n",
       "      <td>0.333333</td>\n",
       "    </tr>\n",
       "    <tr>\n",
       "      <th>eurjpy</th>\n",
       "      <td>0.285714</td>\n",
       "    </tr>\n",
       "    <tr>\n",
       "      <th>usdcad</th>\n",
       "      <td>0.285714</td>\n",
       "    </tr>\n",
       "    <tr>\n",
       "      <th>gbpjpy</th>\n",
       "      <td>0.250000</td>\n",
       "    </tr>\n",
       "  </tbody>\n",
       "</table>\n",
       "</div>"
      ],
      "text/plain": [
       "         ranking\n",
       "eurgbp  1.000000\n",
       "btcusd  1.000000\n",
       "usdmxn  0.800000\n",
       "xauusd  0.736842\n",
       "gbpusd  0.666667\n",
       "usdjpy  0.600000\n",
       "eurusd  0.478261\n",
       "audusd  0.333333\n",
       "eurjpy  0.285714\n",
       "usdcad  0.285714\n",
       "gbpjpy  0.250000"
      ]
     },
     "execution_count": 4,
     "metadata": {},
     "output_type": "execute_result"
    }
   ],
   "source": [
    "# DataFrame del ranking\n",
    "df_2_ranking = df_estadistic['ranking']\n",
    "df_2_ranking"
   ]
  },
  {
   "cell_type": "markdown",
   "metadata": {},
   "source": [
    "<p style = \"font-family: Calibri Light; font-size:1.3em;color:black; LINE-HEIGHT:25px\"> Graficamente se visualiza de la siguiente manera el ranking</p>"
   ]
  },
  {
   "cell_type": "code",
   "execution_count": 5,
   "metadata": {},
   "outputs": [
    {
     "data": {
      "image/png": "[encoded data removed]",
      "text/plain": [
       "<Figure size 640x480 with 1 Axes>"
      ]
     },
     "execution_count": 5,
     "metadata": {},
     "output_type": "execute_result"
    }
   ],
   "source": [
    "# Grafica de barras del ranking\n",
    "vs.fig_rank"
   ]
  },
  {
   "cell_type": "markdown",
   "metadata": {},
   "source": [
    "> <span style=\"color:#004A94; font-family:Georgia; font-size:1.7em;\"> Parte III </span>\n",
    "\n",
    "<p style = \"font-family: Calibri Light; font-size:1.3em;color:black; LINE-HEIGHT:25px\"> El objetivo de esta tercera parte es calcular Medidas de Atribución al Desempeño expresadas semanalmente de la cuenta de trading y de la actividad del trader como persona. Se empieza calculando el capital acumulado a partir del capital inicial que se encuentra en el archivo datos.py en este caso es de $5,000 e ir sumando el profit y así tener esta nueva columna que muestra la evolución del capital de la cuenta a traves del tiempo por operación acomodada por closetime. Después de calcular esto con la función de 'f_columna_capital_acm' sigue generar un dataFrame donde se suma el profit (rendimiento) de todas las operaciones por dia, es decir, si se cerraron 3 operaciones en un mismo dia, sumar el profit de esas 3 operaciones para saber el rendimiento de tal dia, y así por dia dejando en 0 los dia en los que no se hicieron operaciones. De esta manera, en df_profit se encuentra la columna del dia, o sea timestamp, el rendimiento diario cuya columna se llama profit_d, otra columna del profit acumulado para ver el rendimiento acumulado. Después con la función de 'log_dailiy_rends' de la columna de profit_acm ya que se necesitara para futuros calculos.\n",
    "</p>"
   ]
  },
  {
   "cell_type": "code",
   "execution_count": 6,
   "metadata": {},
   "outputs": [
    {
     "data": {
      "text/html": [
       "<div>\n",
       "<style scoped>\n",
       "    .dataframe tbody tr th:only-of-type {\n",
       "        vertical-align: middle;\n",
       "    }\n",
       "\n",
       "    .dataframe tbody tr th {\n",
       "        vertical-align: top;\n",
       "    }\n",
       "\n",
       "    .dataframe thead th {\n",
       "        text-align: right;\n",
       "    }\n",
       "</style>\n",
       "<table border=\"1\" class=\"dataframe\">\n",
       "  <thead>\n",
       "    <tr style=\"text-align: right;\">\n",
       "      <th></th>\n",
       "      <th>timestamp</th>\n",
       "      <th>profit_d</th>\n",
       "      <th>profit_acm</th>\n",
       "      <th>rends</th>\n",
       "    </tr>\n",
       "  </thead>\n",
       "  <tbody>\n",
       "    <tr>\n",
       "      <th>0</th>\n",
       "      <td>2019-08-27</td>\n",
       "      <td>27.61</td>\n",
       "      <td>5027.61</td>\n",
       "      <td>NaN</td>\n",
       "    </tr>\n",
       "    <tr>\n",
       "      <th>1</th>\n",
       "      <td>2019-08-28</td>\n",
       "      <td>5.00</td>\n",
       "      <td>5032.61</td>\n",
       "      <td>0.000994</td>\n",
       "    </tr>\n",
       "    <tr>\n",
       "      <th>2</th>\n",
       "      <td>2019-08-29</td>\n",
       "      <td>-1.52</td>\n",
       "      <td>5031.09</td>\n",
       "      <td>-0.000302</td>\n",
       "    </tr>\n",
       "    <tr>\n",
       "      <th>3</th>\n",
       "      <td>2019-08-30</td>\n",
       "      <td>-17.16</td>\n",
       "      <td>5013.93</td>\n",
       "      <td>-0.003417</td>\n",
       "    </tr>\n",
       "    <tr>\n",
       "      <th>4</th>\n",
       "      <td>2019-09-01</td>\n",
       "      <td>0.00</td>\n",
       "      <td>5013.93</td>\n",
       "      <td>0.000000</td>\n",
       "    </tr>\n",
       "  </tbody>\n",
       "</table>\n",
       "</div>"
      ],
      "text/plain": [
       "   timestamp  profit_d  profit_acm     rends\n",
       "0 2019-08-27     27.61     5027.61       NaN\n",
       "1 2019-08-28      5.00     5032.61  0.000994\n",
       "2 2019-08-29     -1.52     5031.09 -0.000302\n",
       "3 2019-08-30    -17.16     5013.93 -0.003417\n",
       "4 2019-09-01      0.00     5013.93  0.000000"
      ]
     },
     "execution_count": 6,
     "metadata": {},
     "output_type": "execute_result"
    }
   ],
   "source": [
    "# Agregar capital acumulado\n",
    "fn.f_columna_capital_acm(data)\n",
    "\n",
    "# DataFrame de profits\n",
    "df_profit = fn.f_profit_diario(data)\n",
    "\n",
    "# Agregar rendimientos del profit acumulado\n",
    "fn.log_dailiy_rends(df_profit, 'profit_acm')\n",
    "\n",
    "df_profit.head()"
   ]
  },
  {
   "cell_type": "markdown",
   "metadata": {},
   "source": [
    "<p style = \"font-family: Calibri Light; font-size:1.3em;color:black; LINE-HEIGHT:25px\"> A partir de tener este nuevo DataFrame 'df_profit', se calculan las medidas de atribución al desempeño con la columa de rends. </p>"
   ]
  },
  {
   "cell_type": "code",
   "execution_count": 7,
   "metadata": {},
   "outputs": [
    {
     "data": {
      "text/html": [
       "<div>\n",
       "<style scoped>\n",
       "    .dataframe tbody tr th:only-of-type {\n",
       "        vertical-align: middle;\n",
       "    }\n",
       "\n",
       "    .dataframe tbody tr th {\n",
       "        vertical-align: top;\n",
       "    }\n",
       "\n",
       "    .dataframe thead th {\n",
       "        text-align: right;\n",
       "    }\n",
       "</style>\n",
       "<table border=\"1\" class=\"dataframe\">\n",
       "  <thead>\n",
       "    <tr style=\"text-align: right;\">\n",
       "      <th></th>\n",
       "      <th>values</th>\n",
       "    </tr>\n",
       "  </thead>\n",
       "  <tbody>\n",
       "    <tr>\n",
       "      <th>Sharpe</th>\n",
       "      <td>0.166968</td>\n",
       "    </tr>\n",
       "    <tr>\n",
       "      <th>Sortino_c</th>\n",
       "      <td>-0.136855</td>\n",
       "    </tr>\n",
       "    <tr>\n",
       "      <th>Sortino_v</th>\n",
       "      <td>0.153</td>\n",
       "    </tr>\n",
       "    <tr>\n",
       "      <th>Drawdown_capi</th>\n",
       "      <td>-190.48 | 2019-08-28 | 2019-09-03</td>\n",
       "    </tr>\n",
       "    <tr>\n",
       "      <th>Drawup_capi</th>\n",
       "      <td>421.83 | 2019-09-03 | 2019-09-25</td>\n",
       "    </tr>\n",
       "    <tr>\n",
       "      <th>Information</th>\n",
       "      <td>0.018439</td>\n",
       "    </tr>\n",
       "  </tbody>\n",
       "</table>\n",
       "</div>"
      ],
      "text/plain": [
       "                                          values\n",
       "Sharpe                                  0.166968\n",
       "Sortino_c                              -0.136855\n",
       "Sortino_v                                  0.153\n",
       "Drawdown_capi  -190.48 | 2019-08-28 | 2019-09-03\n",
       "Drawup_capi     421.83 | 2019-09-03 | 2019-09-25\n",
       "Information                             0.018439"
      ]
     },
     "execution_count": 7,
     "metadata": {},
     "output_type": "execute_result"
    }
   ],
   "source": [
    "# Estadisticas de metricas de desempeño\n",
    "df_profit_estad = fn.f_estadisticas_mad(data)\n",
    "df_profit_estad"
   ]
  },
  {
   "cell_type": "markdown",
   "metadata": {},
   "source": [
    "<p style = \"font-family: Calibri Light; font-size:1.4em;color:#50C8C4; LINE-HEIGHT:25px\"> Sharpe: </p>\n",
    "\n",
    "<p style = \"font-family: Calibri Light; font-size:1.3em;color:black; LINE-HEIGHT:25px\"> Mide el rendimiento promedio excedente sobre la tasa libre de riesgo por unidad de riesgo incurrido. Es decir, es un indicativo del rendimiento esperado del trader por encima de la tasa libre de riesgo descontando el riesgo en el que incurre.  Mientras sea mas alto el valor del ratio, significa que el numerador fue muy grande o que el denominador fue muy pequeño. Esto, en terminos financieros, podría interpretarse que un Sharpe es alto cuando se tiene un rendimiento excedente despues de la tasa libre de riesgo alto, y/o, que la volatilidad de los rendimientos de la estrategia de trading fue baja. Otra manera más simple de pensarlo es que el trader hizo mucho más rendimiento que el riesgo en el que incurre.</p>\n",
    "\n",
    "\n",
    "<p style = \"font-family: Calibri Light; font-size:1.4em;color:#50C8C4; LINE-HEIGHT:25px\">Sortino Ratio:</p>\n",
    "\n",
    "<p style = \"font-family: Calibri Light; font-size:1.3em;color:black; LINE-HEIGHT:25px\"> Derivado del Sharpe Ratio, el Sortio Ratio es una medida que incorpora 2 conceptos especiales: 1) el MAR o \"Minimum Acceptable Return\" (algunos fondos y profesionales se refieren a esto como DTR o Desired Target Return) y es el rendimiento promedio objetivo que se desea obtener del trader. 2) el TDD o \"Target Downside Deviation\" se calcula con los rendimientos por periodo que estén por debajo del MAR, es decir, TDD es la volatilidad de los rendimientos por debajo del rendimiento objetivo.</p> \n",
    "\n",
    "\n",
    "<p style = \"font-family: Calibri Light; font-size:1.4em;color:#50C8C4; LINE-HEIGHT:25px\">Drawdown / DrawUp:</p>\n",
    "\n",
    "<p style = \"font-family: Calibri Light; font-size:1.3em;color:black; LINE-HEIGHT:25px\"> La minusvalía/plusvalía máxima que se presentó en la evolución del capital. Esta medida puede ser calculada, tanto para información temporalmente medida en los mismos intervalos o equidistante (ej. rendimientos diarios) y también para información obtenida en intervalos distintos o no equidistante (ej: rendimiento por operación). Esto es posible ya que lo que se busca obtener de información es la fecha inicial, la fecha final y la magnitud del periodo donde la acumulación de pérdida/ganancia de capital resultó ser la mayor dentro del periodo de tiempo analizado.</p>\n",
    "\n",
    "\n",
    "<p style = \"font-family: Calibri Light; font-size:1.4em;color:#50C8C4; LINE-HEIGHT:25px\">Information Ratio:</p>\n",
    "\n",
    "<p style = \"font-family: Calibri Light; font-size:1.3em;color:black; LINE-HEIGHT:25px\"> Es una medida similar al Sharpe, con la diferencia de incorporar información del benchmark. En el cálculo de esta medida se reemplaza en el numerador la tasa libre de riesgo por el rendimiento del benchmark y en el denominador se utiliza la información de todos los rendimientos de la estrategia de trading una vez que se descuentan los rendimientos del benchmark. De tal manera que, al descontar la información del mercado para el rendimiento (numerador) como para la medida de riesgo (numerador) se está buscando tener una medida de la \"información\" extra que el trader tiene/genera o que logra capturar de comportamiento de los activos y que podría hacer que sus cifras sean mejores que las de un benchmark.</p>"
   ]
  },
  {
   "cell_type": "code",
   "execution_count": 8,
   "metadata": {},
   "outputs": [
    {
     "data": {
      "image/png": "[encoded data removed]",
      "text/plain": [
       "<Figure size 640x480 with 1 Axes>"
      ]
     },
     "execution_count": 8,
     "metadata": {},
     "output_type": "execute_result"
    }
   ],
   "source": [
    "# Grafica de profit acumukado por dia\n",
    "vs.fig_dd"
   ]
  },
  {
   "cell_type": "markdown",
   "metadata": {},
   "source": [
    "> <span style=\"color:#004A94; font-family:Georgia; font-size:1.7em;\"> Parte IV </span>\n",
    "\n",
    "<p style = \"font-family: Calibri Light; font-size:1.3em;color:black; LINE-HEIGHT:25px\"> El objetivo de esta cuarta y ultima parte es proponer, diseñar y calcular una función para obtener evidencia sobre la presencia de sesgos cognitivos en un trader.</p>\n",
    "\n",
    ".\n",
    "\n",
    "<span style=\"color:#AABCBB; font-family:Georgia; font-size:1.4em;\"> Disposition Effect </span>\n",
    "\n",
    "<p style = \"font-family: Calibri Light; font-size:1.3em;color:black; LINE-HEIGHT:25px\"> Este sesgo cognitivo propuesto por los autores Kahneman y Tversky, para el caso de trading, aplica como el efecto que se puede observar en el histórico de un trader sobre el hecho que tiende a cortar las ganancias rápido y mantener las pérdidas mucho tiempo, es decir, a materializar las ganancias mas frecuentemente que las pérdidas.</p>"
   ]
  },
  {
   "cell_type": "code",
   "execution_count": 10,
   "metadata": {},
   "outputs": [
    {
     "data": {
      "text/html": [
       "<div>\n",
       "<style scoped>\n",
       "    .dataframe tbody tr th:only-of-type {\n",
       "        vertical-align: middle;\n",
       "    }\n",
       "\n",
       "    .dataframe tbody tr th {\n",
       "        vertical-align: top;\n",
       "    }\n",
       "\n",
       "    .dataframe thead th {\n",
       "        text-align: right;\n",
       "    }\n",
       "</style>\n",
       "<table border=\"1\" class=\"dataframe\">\n",
       "  <thead>\n",
       "    <tr style=\"text-align: right;\">\n",
       "      <th></th>\n",
       "      <th>CloseTime</th>\n",
       "      <th>Capital_acm</th>\n",
       "      <th>Ganadora</th>\n",
       "      <th>Gan_Profit</th>\n",
       "      <th>Gan/Cap_acm</th>\n",
       "      <th>Perdedora</th>\n",
       "      <th>Perdida_flotante</th>\n",
       "      <th>Perd/Cap_acm</th>\n",
       "      <th>Perd_Tot</th>\n",
       "      <th>Ratio cp/cg</th>\n",
       "    </tr>\n",
       "  </thead>\n",
       "  <tbody>\n",
       "    <tr>\n",
       "      <th>0</th>\n",
       "      <td>2019-08-27 09:16:01</td>\n",
       "      <td>5015.15</td>\n",
       "      <td>xauusd</td>\n",
       "      <td>17.92</td>\n",
       "      <td>0.357</td>\n",
       "      <td>eurjpy</td>\n",
       "      <td>-8.439</td>\n",
       "      <td>0.168</td>\n",
       "      <td>1.32</td>\n",
       "      <td>0.471</td>\n",
       "    </tr>\n",
       "    <tr>\n",
       "      <th>1</th>\n",
       "      <td>2019-08-28 21:01:24</td>\n",
       "      <td>5032.61</td>\n",
       "      <td>eurjpy</td>\n",
       "      <td>5</td>\n",
       "      <td>0.099</td>\n",
       "      <td>eurjpy</td>\n",
       "      <td>-6.402</td>\n",
       "      <td>0.127</td>\n",
       "      <td>-9.98</td>\n",
       "      <td>1.28</td>\n",
       "    </tr>\n",
       "    <tr>\n",
       "      <th>2</th>\n",
       "      <td>2019-08-29 15:01:24</td>\n",
       "      <td>5050.93</td>\n",
       "      <td>gbpjpy</td>\n",
       "      <td>21.35</td>\n",
       "      <td>0.423</td>\n",
       "      <td>eurusd</td>\n",
       "      <td>-10.64</td>\n",
       "      <td>0.211</td>\n",
       "      <td>-25.64</td>\n",
       "      <td>0.498</td>\n",
       "    </tr>\n",
       "    <tr>\n",
       "      <th>3</th>\n",
       "      <td>2019-08-29 15:01:43</td>\n",
       "      <td>5056.89</td>\n",
       "      <td>gbpusd</td>\n",
       "      <td>5.96</td>\n",
       "      <td>0.118</td>\n",
       "      <td>eurusd</td>\n",
       "      <td>-10.64</td>\n",
       "      <td>0.21</td>\n",
       "      <td>-25.64</td>\n",
       "      <td>1.785</td>\n",
       "    </tr>\n",
       "    <tr>\n",
       "      <th>4</th>\n",
       "      <td>2019-08-30 02:53:33</td>\n",
       "      <td>5031.43</td>\n",
       "      <td>usdjpy</td>\n",
       "      <td>0.34</td>\n",
       "      <td>0.007</td>\n",
       "      <td>eurusd</td>\n",
       "      <td>-17.32</td>\n",
       "      <td>0.344</td>\n",
       "      <td>-25.64</td>\n",
       "      <td>50.941</td>\n",
       "    </tr>\n",
       "  </tbody>\n",
       "</table>\n",
       "</div>"
      ],
      "text/plain": [
       "            CloseTime Capital_acm Ganadora Gan_Profit Gan/Cap_acm Perdedora  \\\n",
       "0 2019-08-27 09:16:01     5015.15   xauusd      17.92       0.357    eurjpy   \n",
       "1 2019-08-28 21:01:24     5032.61   eurjpy          5       0.099    eurjpy   \n",
       "2 2019-08-29 15:01:24     5050.93   gbpjpy      21.35       0.423    eurusd   \n",
       "3 2019-08-29 15:01:43     5056.89   gbpusd       5.96       0.118    eurusd   \n",
       "4 2019-08-30 02:53:33     5031.43   usdjpy       0.34       0.007    eurusd   \n",
       "\n",
       "  Perdida_flotante Perd/Cap_acm Perd_Tot Ratio cp/cg  \n",
       "0           -8.439        0.168     1.32       0.471  \n",
       "1           -6.402        0.127    -9.98        1.28  \n",
       "2           -10.64        0.211   -25.64       0.498  \n",
       "3           -10.64         0.21   -25.64       1.785  \n",
       "4           -17.32        0.344   -25.64      50.941  "
      ]
     },
     "execution_count": 10,
     "metadata": {},
     "output_type": "execute_result"
    }
   ],
   "source": [
    "# Operaciones ganadora vs perdedora (ocurrencia)\n",
    "sesgos = fn.f_sesgos_cognitivo(data)\n",
    "\n",
    "ocurrencias = fn.dataframe_ocurrencias(sesgos['ocurrencias'])\n",
    "ocurrencias.head()"
   ]
  },
  {
   "cell_type": "code",
   "execution_count": 11,
   "metadata": {},
   "outputs": [
    {
     "data": {
      "text/html": [
       "<div>\n",
       "<style scoped>\n",
       "    .dataframe tbody tr th:only-of-type {\n",
       "        vertical-align: middle;\n",
       "    }\n",
       "\n",
       "    .dataframe tbody tr th {\n",
       "        vertical-align: top;\n",
       "    }\n",
       "\n",
       "    .dataframe thead th {\n",
       "        text-align: right;\n",
       "    }\n",
       "</style>\n",
       "<table border=\"1\" class=\"dataframe\">\n",
       "  <thead>\n",
       "    <tr style=\"text-align: right;\">\n",
       "      <th></th>\n",
       "      <th>Valor</th>\n",
       "    </tr>\n",
       "  </thead>\n",
       "  <tbody>\n",
       "    <tr>\n",
       "      <th>ocurrencias</th>\n",
       "      <td>27</td>\n",
       "    </tr>\n",
       "    <tr>\n",
       "      <th>status_quo</th>\n",
       "      <td>0.592593</td>\n",
       "    </tr>\n",
       "    <tr>\n",
       "      <th>aversion_perdida</th>\n",
       "      <td>0.37037</td>\n",
       "    </tr>\n",
       "    <tr>\n",
       "      <th>sensibilidad_decreciente</th>\n",
       "      <td>si</td>\n",
       "    </tr>\n",
       "  </tbody>\n",
       "</table>\n",
       "</div>"
      ],
      "text/plain": [
       "                             Valor\n",
       "ocurrencias                     27\n",
       "status_quo                0.592593\n",
       "aversion_perdida           0.37037\n",
       "sensibilidad_decreciente        si"
      ]
     },
     "execution_count": 11,
     "metadata": {},
     "output_type": "execute_result"
    }
   ],
   "source": [
    "sesgos['resultados']"
   ]
  },
  {
   "cell_type": "code",
   "execution_count": null,
   "metadata": {},
   "outputs": [],
   "source": []
  }
 ],
 "metadata": {
  "kernelspec": {
   "display_name": "Python 3",
   "language": "python",
   "name": "python3"
  },
  "language_info": {
   "codemirror_mode": {
    "name": "ipython",
    "version": 3
   },
   "file_extension": ".py",
   "mimetype": "text/x-python",
   "name": "python",
   "nbconvert_exporter": "python",
   "pygments_lexer": "ipython3",
   "version": "3.7.3"
  }
 },
 "nbformat": 4,
 "nbformat_minor": 2
}
